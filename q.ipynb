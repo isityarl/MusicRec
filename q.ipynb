{
 "cells": [
  {
   "cell_type": "code",
   "execution_count": 1,
   "id": "7f90ef85",
   "metadata": {},
   "outputs": [],
   "source": [
    "import pandas as pd \n",
    "import numpy as np\n",
    "import glob\n",
    "import os\n",
    "import random\n",
    "import re\n",
    "from sklearn.utils import resample"
   ]
  },
  {
   "cell_type": "code",
   "execution_count": 2,
   "id": "bf7777a7",
   "metadata": {},
   "outputs": [
    {
     "data": {
      "application/vnd.microsoft.datawrangler.viewer.v0+json": {
       "columns": [
        {
         "name": "index",
         "rawType": "int64",
         "type": "integer"
        },
        {
         "name": "ru_text",
         "rawType": "object",
         "type": "string"
        },
        {
         "name": "text",
         "rawType": "object",
         "type": "string"
        },
        {
         "name": "id",
         "rawType": "object",
         "type": "string"
        },
        {
         "name": "author",
         "rawType": "object",
         "type": "string"
        },
        {
         "name": "subreddit",
         "rawType": "object",
         "type": "string"
        },
        {
         "name": "link_id",
         "rawType": "object",
         "type": "string"
        },
        {
         "name": "parent_id",
         "rawType": "object",
         "type": "string"
        },
        {
         "name": "created_utc",
         "rawType": "float32",
         "type": "float"
        },
        {
         "name": "rater_id",
         "rawType": "int32",
         "type": "integer"
        },
        {
         "name": "example_very_unclear",
         "rawType": "bool",
         "type": "boolean"
        },
        {
         "name": "admiration",
         "rawType": "int32",
         "type": "integer"
        },
        {
         "name": "amusement",
         "rawType": "int32",
         "type": "integer"
        },
        {
         "name": "anger",
         "rawType": "int32",
         "type": "integer"
        },
        {
         "name": "annoyance",
         "rawType": "int32",
         "type": "integer"
        },
        {
         "name": "approval",
         "rawType": "int32",
         "type": "integer"
        },
        {
         "name": "caring",
         "rawType": "int32",
         "type": "integer"
        },
        {
         "name": "confusion",
         "rawType": "int32",
         "type": "integer"
        },
        {
         "name": "curiosity",
         "rawType": "int32",
         "type": "integer"
        },
        {
         "name": "desire",
         "rawType": "int32",
         "type": "integer"
        },
        {
         "name": "disappointment",
         "rawType": "int32",
         "type": "integer"
        },
        {
         "name": "disapproval",
         "rawType": "int32",
         "type": "integer"
        },
        {
         "name": "disgust",
         "rawType": "int32",
         "type": "integer"
        },
        {
         "name": "embarrassment",
         "rawType": "int32",
         "type": "integer"
        },
        {
         "name": "excitement",
         "rawType": "int32",
         "type": "integer"
        },
        {
         "name": "fear",
         "rawType": "int32",
         "type": "integer"
        },
        {
         "name": "gratitude",
         "rawType": "int32",
         "type": "integer"
        },
        {
         "name": "grief",
         "rawType": "int32",
         "type": "integer"
        },
        {
         "name": "joy",
         "rawType": "int32",
         "type": "integer"
        },
        {
         "name": "love",
         "rawType": "int32",
         "type": "integer"
        },
        {
         "name": "nervousness",
         "rawType": "int32",
         "type": "integer"
        },
        {
         "name": "optimism",
         "rawType": "int32",
         "type": "integer"
        },
        {
         "name": "pride",
         "rawType": "int32",
         "type": "integer"
        },
        {
         "name": "realization",
         "rawType": "int32",
         "type": "integer"
        },
        {
         "name": "relief",
         "rawType": "int32",
         "type": "integer"
        },
        {
         "name": "remorse",
         "rawType": "int32",
         "type": "integer"
        },
        {
         "name": "sadness",
         "rawType": "int32",
         "type": "integer"
        },
        {
         "name": "surprise",
         "rawType": "int32",
         "type": "integer"
        },
        {
         "name": "neutral",
         "rawType": "int32",
         "type": "integer"
        }
       ],
       "ref": "44f49a55-c634-4efa-9ec9-f31262df7fe5",
       "rows": [
        [
         "0",
         "Эта игра причинила мне боль.",
         "That game hurt.",
         "eew5j0j",
         "Brdd9",
         "nrl",
         "t3_ajis4z",
         "t1_eew18eq",
         "1548381000.0",
         "1",
         "False",
         "0",
         "0",
         "0",
         "0",
         "0",
         "0",
         "0",
         "0",
         "0",
         "0",
         "0",
         "0",
         "0",
         "0",
         "0",
         "0",
         "0",
         "0",
         "0",
         "0",
         "0",
         "0",
         "0",
         "0",
         "0",
         "1",
         "0",
         "0"
        ],
        [
         "1",
         ">сексуальность не должна быть групповой категорией. Она отличает вас от других людей, поэтому, по моему мнению, это соответствует определению «группировки».",
         " >sexuality shouldn’t be a grouping category It makes you different from othet ppl so imo it fits the definition of \"grouping\" ",
         "eemcysk",
         "TheGreen888",
         "unpopularopinion",
         "t3_ai4q37",
         "t3_ai4q37",
         "1548084200.0",
         "37",
         "False",
         "0",
         "0",
         "0",
         "0",
         "0",
         "0",
         "0",
         "0",
         "0",
         "0",
         "0",
         "0",
         "0",
         "0",
         "0",
         "0",
         "0",
         "0",
         "0",
         "0",
         "0",
         "0",
         "0",
         "0",
         "0",
         "0",
         "0",
         "0"
        ],
        [
         "2",
         "Ты правильно поступаешь, если тебе все равно, то иди к черту!",
         "You do right, if you don't care then fuck 'em!",
         "ed2mah1",
         "Labalool",
         "confessions",
         "t3_abru74",
         "t1_ed2m7g7",
         "1546427800.0",
         "37",
         "False",
         "0",
         "0",
         "0",
         "0",
         "0",
         "0",
         "0",
         "0",
         "0",
         "0",
         "0",
         "0",
         "0",
         "0",
         "0",
         "0",
         "0",
         "0",
         "0",
         "0",
         "0",
         "0",
         "0",
         "0",
         "0",
         "0",
         "0",
         "1"
        ],
        [
         "3",
         "Чувак, я обожаю Reddit.",
         "Man I love reddit.",
         "eeibobj",
         "MrsRobertshaw",
         "facepalm",
         "t3_ahulml",
         "t3_ahulml",
         "1547965000.0",
         "18",
         "False",
         "0",
         "0",
         "0",
         "0",
         "0",
         "0",
         "0",
         "0",
         "0",
         "0",
         "0",
         "0",
         "0",
         "0",
         "0",
         "0",
         "0",
         "0",
         "1",
         "0",
         "0",
         "0",
         "0",
         "0",
         "0",
         "0",
         "0",
         "0"
        ],
        [
         "4",
         "[ИМЯ] не было рядом с ними, он был рядом с «Соколом».",
         "[NAME] was nowhere near them, he was by the Falcon. ",
         "eda6yn6",
         "American_Fascist713",
         "starwarsspeculation",
         "t3_ackt2f",
         "t1_eda65q2",
         "1546668500.0",
         "2",
         "False",
         "0",
         "0",
         "0",
         "0",
         "0",
         "0",
         "0",
         "0",
         "0",
         "0",
         "0",
         "0",
         "0",
         "0",
         "0",
         "0",
         "0",
         "0",
         "0",
         "0",
         "0",
         "0",
         "0",
         "0",
         "0",
         "0",
         "0",
         "1"
        ],
        [
         "5",
         "Верно? Учитывая, что это такой важный документ, я должен знать эту чертову штуку вдоль и поперек... еще раз спасибо за помощь!",
         "Right? Considering it’s such an important document, I should know the damned thing backwards and forwards... thanks again for the help!",
         "eespn2i",
         "ImperialBoss",
         "TrueReddit",
         "t3_aizyuz",
         "t1_eesoak0",
         "1548280200.0",
         "61",
         "False",
         "0",
         "0",
         "0",
         "0",
         "0",
         "0",
         "0",
         "0",
         "0",
         "0",
         "0",
         "0",
         "0",
         "0",
         "0",
         "1",
         "0",
         "0",
         "0",
         "0",
         "0",
         "0",
         "0",
         "0",
         "0",
         "0",
         "0",
         "0"
        ],
        [
         "6",
         "Он не такой большой, но все еще довольно популярный. Я слышал то же самое о его содержании. Никогда особо не смотрел его.",
         "He isn't as big, but he's still quite popular. I've heard the same thing about his content. Never watched him much.",
         "eczuekb",
         "Rallings",
         "cringe",
         "t3_abeksv",
         "t1_eczsmp8",
         "1546320100.0",
         "3",
         "False",
         "0",
         "0",
         "0",
         "0",
         "0",
         "0",
         "0",
         "0",
         "0",
         "0",
         "1",
         "0",
         "0",
         "0",
         "0",
         "0",
         "0",
         "0",
         "0",
         "0",
         "0",
         "0",
         "0",
         "0",
         "0",
         "0",
         "0",
         "0"
        ],
        [
         "7",
         "Это безумие; Я училась в супер [РЕЛИГИЙНОЙ] средней школе и думаю, что за все 4 года могу вспомнить двух девочек, которые стали мамами-подростками.",
         "That's crazy; I went to a super [RELIGION] high school and I think I can remember 2 girls the entire 4 years that became teen moms.",
         "ed5tx8y",
         "Beachy5313",
         "TeenMomOGandTeenMom2",
         "t3_ac10u9",
         "t1_ed5tfyc",
         "1546536200.0",
         "23",
         "False",
         "0",
         "1",
         "0",
         "0",
         "0",
         "0",
         "0",
         "0",
         "0",
         "0",
         "0",
         "0",
         "0",
         "0",
         "0",
         "0",
         "0",
         "0",
         "0",
         "0",
         "0",
         "0",
         "0",
         "0",
         "0",
         "0",
         "0",
         "0"
        ],
        [
         "8",
         "это очень мило",
         "that's adorable asf",
         "ef961hv",
         "RedRails1917",
         "traaaaaaannnnnnnnnns",
         "t3_akz2ia",
         "t3_akz2ia",
         "1548763500.0",
         "73",
         "False",
         "0",
         "1",
         "0",
         "0",
         "0",
         "0",
         "0",
         "0",
         "0",
         "0",
         "0",
         "0",
         "0",
         "0",
         "0",
         "0",
         "0",
         "0",
         "0",
         "0",
         "0",
         "0",
         "0",
         "0",
         "0",
         "0",
         "0",
         "0"
        ],
        [
         "9",
         "«Пабы Sponge Blurb Quaw Haha GURR ha AAa!» финал слишком реален",
         "\"Sponge Blurb Pubs Quaw Haha GURR ha AAa!\" finale is too real",
         "edl7cr3",
         "Tiagulus",
         "youtubehaiku",
         "t3_acuvb0",
         "t1_edc21ip",
         "1546983600.0",
         "54",
         "False",
         "0",
         "1",
         "0",
         "0",
         "0",
         "0",
         "0",
         "0",
         "0",
         "0",
         "0",
         "0",
         "0",
         "0",
         "0",
         "0",
         "0",
         "0",
         "0",
         "0",
         "0",
         "0",
         "0",
         "0",
         "0",
         "0",
         "0",
         "0"
        ],
        [
         "10",
         "Да, и теперь, когда вы упомянули об этом, я думаю, именно это вызвало у меня ностальгию.",
         "I have, and now that you mention it, I think that's what triggered my nostalgia. ",
         "ed9w1hm",
         "[deleted]",
         "AskMenOver30",
         "t3_acm7f6",
         "t1_ed9m2l0",
         "1546658300.0",
         "36",
         "False",
         "0",
         "0",
         "0",
         "0",
         "0",
         "0",
         "0",
         "0",
         "0",
         "0",
         "0",
         "0",
         "0",
         "0",
         "0",
         "0",
         "0",
         "0",
         "0",
         "0",
         "0",
         "0",
         "0",
         "0",
         "0",
         "0",
         "0",
         "1"
        ],
        [
         "11",
         "Я хотел понизить это мнение, но это не твоя вина, приятель.",
         "I wanted to downvote this, but it's not your fault homie.",
         "ee52cjs",
         "SonOfSite",
         "timberwolves",
         "t3_ag8bzf",
         "t1_ee4pwrk",
         "1547579800.0",
         "81",
         "False",
         "0",
         "0",
         "0",
         "0",
         "0",
         "0",
         "0",
         "0",
         "0",
         "1",
         "0",
         "0",
         "0",
         "0",
         "0",
         "0",
         "0",
         "0",
         "0",
         "0",
         "0",
         "0",
         "0",
         "0",
         "0",
         "0",
         "0",
         "0"
        ],
        [
         "12",
         "НО ЭТО ОНА! /с",
         "BUT IT'S HER TURN! /s",
         "ef7tl7i",
         "Genesis2001",
         "SandersForPresident",
         "t3_akongy",
         "t1_ef7d386",
         "1548720000.0",
         "17",
         "False",
         "0",
         "0",
         "0",
         "0",
         "0",
         "0",
         "0",
         "0",
         "0",
         "0",
         "0",
         "0",
         "0",
         "0",
         "0",
         "0",
         "0",
         "0",
         "0",
         "0",
         "0",
         "0",
         "0",
         "0",
         "0",
         "0",
         "0",
         "1"
        ],
        [
         "13",
         "Это странно.",
         "That is odd.",
         "ee9vw9t",
         "SoloTetherballChamp",
         "jobs",
         "t3_agy1as",
         "t3_agy1as",
         "1547735800.0",
         "50",
         "False",
         "0",
         "0",
         "0",
         "0",
         "0",
         "0",
         "0",
         "0",
         "0",
         "1",
         "0",
         "1",
         "0",
         "0",
         "0",
         "0",
         "0",
         "0",
         "0",
         "0",
         "0",
         "0",
         "0",
         "0",
         "0",
         "0",
         "0",
         "0"
        ],
        [
         "14",
         "Построить стену? /Джк",
         "Build a wall? /jk",
         "edsqvyx",
         "[deleted]",
         "AskMenOver30",
         "t3_aeq3ep",
         "t1_edsn1bd",
         "1547207600.0",
         "10",
         "False",
         "0",
         "0",
         "0",
         "0",
         "0",
         "0",
         "0",
         "0",
         "0",
         "0",
         "0",
         "0",
         "0",
         "0",
         "0",
         "0",
         "0",
         "0",
         "0",
         "0",
         "0",
         "0",
         "0",
         "0",
         "0",
         "0",
         "0",
         "1"
        ],
        [
         "15",
         "Я ценю это, приятно это знать. Надеюсь, однажды мне придется применить эти знания",
         "I appreciate it, that's good to know. I hope I'll have to apply that knowledge one day",
         "ed13jls",
         "WhoSmokesThaBlunts",
         "videos",
         "t3_abfptb",
         "t1_ed10aci",
         "1546372000.0",
         "73",
         "False",
         "1",
         "0",
         "0",
         "0",
         "0",
         "0",
         "0",
         "0",
         "0",
         "0",
         "0",
         "0",
         "0",
         "0",
         "0",
         "1",
         "0",
         "0",
         "0",
         "0",
         "0",
         "0",
         "0",
         "0",
         "0",
         "0",
         "0",
         "0"
        ],
        [
         "16",
         "Однажды мой 1 остановился прямо на 91-м, я смог сделать хорошее фото платформы, так как вдоль нее есть несколько огней.",
         "One time my 1 stopped right in 91st, I was able to get a good photo of the platform since they have some lights along it.",
         "edhionw",
         "enjineer30302",
         "nyc",
         "t3_adhle8",
         "t1_edh6eak",
         "1546881300.0",
         "81",
         "False",
         "0",
         "0",
         "0",
         "0",
         "0",
         "0",
         "0",
         "0",
         "0",
         "0",
         "0",
         "0",
         "0",
         "0",
         "0",
         "0",
         "0",
         "0",
         "0",
         "0",
         "0",
         "0",
         "0",
         "0",
         "0",
         "0",
         "0",
         "1"
        ],
        [
         "17",
         "Ну тогда я бы сказал, что у тебя довольно хорошие шансы, если это какая-нибудь девушка, лол.",
         "Well then I’d say you have a pretty good chance if it’s any girl lol",
         "edkezap",
         "Locket_in_my_pocket",
         "IncelsWithoutHate",
         "t3_ad0xew",
         "t1_edctzd8",
         "1546963300.0",
         "16",
         "False",
         "0",
         "0",
         "0",
         "0",
         "0",
         "0",
         "0",
         "0",
         "0",
         "0",
         "0",
         "0",
         "0",
         "0",
         "0",
         "0",
         "0",
         "0",
         "0",
         "0",
         "0",
         "0",
         "1",
         "0",
         "0",
         "0",
         "0",
         "0"
        ],
        [
         "18",
         "Практически каждый пенджабский чувак, которого я встречал.",
         "Pretty much every Punjabi dude I've met.",
         "ed86cjz",
         "NotGucci",
         "ABCDesis",
         "t3_aceyuo",
         "t3_aceyuo",
         "1546613400.0",
         "3",
         "False",
         "1",
         "0",
         "0",
         "0",
         "0",
         "0",
         "0",
         "0",
         "0",
         "0",
         "0",
         "0",
         "0",
         "0",
         "0",
         "0",
         "0",
         "0",
         "0",
         "0",
         "0",
         "0",
         "0",
         "0",
         "0",
         "0",
         "0",
         "0"
        ],
        [
         "19",
         "Для дополнительной меры закрепите его прямо у промежности, чтобы она не могла взять его по причинам сексуального насилия.",
         "For extra measure tape it right by your crotch so she can't take it for sexual assault reasons",
         "ed9b88y",
         "Draconis_Firesworn",
         "entitledparents",
         "t3_acitar",
         "t1_ed8yowz",
         "1546640900.0",
         "29",
         "False",
         "0",
         "0",
         "0",
         "1",
         "0",
         "0",
         "0",
         "0",
         "0",
         "0",
         "0",
         "0",
         "0",
         "0",
         "0",
         "0",
         "0",
         "0",
         "0",
         "0",
         "0",
         "0",
         "0",
         "0",
         "0",
         "0",
         "0",
         "0"
        ],
        [
         "20",
         "На этом видео даже не показаны туфли, которые он носил...",
         "This video doesn't even show the shoes he was wearing...",
         "edf75do",
         "JuicyEmmental",
         "Boxing",
         "t3_ada6cy",
         "t1_edf4fih",
         "1546813200.0",
         "24",
         "False",
         "0",
         "0",
         "0",
         "0",
         "0",
         "0",
         "0",
         "0",
         "0",
         "0",
         "0",
         "0",
         "0",
         "0",
         "0",
         "0",
         "0",
         "0",
         "0",
         "0",
         "0",
         "0",
         "0",
         "0",
         "0",
         "0",
         "0",
         "1"
        ],
        [
         "21",
         "За что Клемсону дарят наклейки гордости? Снапы играли?",
         "What does Clemson give pride stickers for? Snaps played?",
         "edj0qlw",
         "Grimaceapprentice21",
         "CFB",
         "t3_ado3q4",
         "t3_ado3q4",
         "1546912000.0",
         "4",
         "False",
         "0",
         "0",
         "0",
         "0",
         "0",
         "0",
         "1",
         "0",
         "0",
         "0",
         "0",
         "0",
         "0",
         "0",
         "0",
         "0",
         "0",
         "0",
         "0",
         "0",
         "0",
         "0",
         "0",
         "0",
         "0",
         "0",
         "0",
         "0"
        ],
        [
         "22",
         "«Ты можешь умереть, но я готов принести эту жертву»",
         "\"You may die, but it's a sacrifice I'm willing to make\"",
         "eexfd75",
         "nuka_",
         "facepalm",
         "t3_ajp2ms",
         "t3_ajp2ms",
         "1548425600.0",
         "61",
         "False",
         "0",
         "0",
         "0",
         "0",
         "0",
         "0",
         "0",
         "0",
         "0",
         "0",
         "0",
         "0",
         "0",
         "0",
         "0",
         "0",
         "0",
         "0",
         "0",
         "0",
         "1",
         "0",
         "0",
         "0",
         "0",
         "0",
         "0",
         "0"
        ],
        [
         "23",
         "Теперь мне интересно, что я упустил. Еще раз спасибо за это.",
         "Now I'm wondering on what I've been missing out. Again thank you for this.",
         "ed8fx5a",
         "JonJonRegayov",
         "morbidquestions",
         "t3_ac4kyj",
         "t1_ed8a14x",
         "1546619800.0",
         "5",
         "False",
         "0",
         "0",
         "0",
         "0",
         "0",
         "0",
         "0",
         "1",
         "0",
         "0",
         "0",
         "0",
         "0",
         "0",
         "0",
         "1",
         "0",
         "0",
         "0",
         "0",
         "0",
         "0",
         "0",
         "0",
         "0",
         "0",
         "0",
         "0"
        ],
        [
         "24",
         "это определенно вписывается в r/BoneAppleTea.",
         "this definitely fits in r/BoneAppleTea.",
         "ee9jw7b",
         "sparkthelynx",
         "KidsAreFuckingStupid",
         "t3_ad9tju",
         "t3_ad9tju",
         "1547722800.0",
         "67",
         "False",
         "0",
         "0",
         "0",
         "0",
         "0",
         "0",
         "0",
         "0",
         "0",
         "0",
         "0",
         "0",
         "0",
         "0",
         "0",
         "0",
         "0",
         "0",
         "0",
         "0",
         "0",
         "0",
         "0",
         "0",
         "0",
         "0",
         "0",
         "1"
        ],
        [
         "25",
         "«Виааа! У нас тоже есть один цветной!»",
         "\"Seeeee! We have one of them coloureds too!\"",
         "eeb52e6",
         "Sanitybug",
         "TopMindsOfReddit",
         "t3_agz1gf",
         "t3_agz1gf",
         "1547765400.0",
         "37",
         "False",
         "0",
         "0",
         "0",
         "0",
         "0",
         "0",
         "0",
         "0",
         "0",
         "0",
         "0",
         "0",
         "0",
         "1",
         "0",
         "0",
         "0",
         "0",
         "0",
         "0",
         "0",
         "0",
         "0",
         "0",
         "0",
         "0",
         "0",
         "0"
        ],
        [
         "26",
         "Напомни мне! 3 месяца",
         "RemindMe! 3 months",
         "edw0ceq",
         "Rob-With-One-B",
         "badunitedkingdom",
         "t3_af660k",
         "t1_edw04b9",
         "1547295600.0",
         "67",
         "False",
         "0",
         "0",
         "0",
         "0",
         "0",
         "0",
         "0",
         "0",
         "0",
         "0",
         "0",
         "0",
         "0",
         "0",
         "0",
         "0",
         "0",
         "0",
         "0",
         "0",
         "0",
         "0",
         "0",
         "0",
         "0",
         "0",
         "0",
         "1"
        ],
        [
         "27",
         "Да, больше нет. Поддерживайте уровень сахара в крови! Очень помогает, ПИТЬ ВОДУ...",
         "Yup, not anymore. Keep your blood sugar up! It really helps and DRINK water...",
         "ee64ows",
         "atomicchuckle",
         "Teachers",
         "t3_ag2a2t",
         "t1_ee3dehp",
         "1547608300.0",
         "60",
         "False",
         "0",
         "0",
         "0",
         "0",
         "0",
         "1",
         "0",
         "0",
         "0",
         "0",
         "0",
         "0",
         "0",
         "0",
         "0",
         "0",
         "0",
         "0",
         "0",
         "0",
         "0",
         "0",
         "0",
         "0",
         "0",
         "0",
         "0",
         "0"
        ],
        [
         "28",
         "Много, Play Store или Apple Store VPN. Норд это хорошо",
         "Lots, play store or apple store vpn. Nord is good",
         "edli9sc",
         "RangoFandang",
         "MorbidReality",
         "t3_adz4wg",
         "t1_edlhyh4",
         "1546991600.0",
         "51",
         "False",
         "1",
         "0",
         "0",
         "0",
         "0",
         "0",
         "0",
         "0",
         "0",
         "0",
         "0",
         "0",
         "0",
         "0",
         "0",
         "0",
         "0",
         "0",
         "0",
         "0",
         "0",
         "0",
         "0",
         "0",
         "0",
         "0",
         "0",
         "0"
        ],
        [
         "29",
         "Я так рада за [ИМЯ]. Так грустно, что его здесь нет. Представьте себе эту команду с [ИМЯ] вместо [ИМЯ]. Фу.",
         "So happy for [NAME]. So sad he's not here. Imagine this team with [NAME] instead of [NAME]. Ugh.",
         "ee9zjio",
         "YROK1986",
         "DetroitPistons",
         "t3_agty5q",
         "t3_agty5q",
         "1547738600.0",
         "15",
         "False",
         "0",
         "0",
         "0",
         "0",
         "0",
         "0",
         "0",
         "0",
         "0",
         "0",
         "0",
         "1",
         "0",
         "0",
         "0",
         "0",
         "0",
         "1",
         "0",
         "0",
         "0",
         "0",
         "0",
         "0",
         "0",
         "1",
         "0",
         "0"
        ],
        [
         "30",
         "но это [ИМЯ] говорит так разочаровывает",
         "but it's [NAME] saying it so sorta disappointing",
         "eda23xf",
         "autobahn",
         "texas",
         "t3_acnl3j",
         "t3_acnl3j",
         "1546664000.0",
         "35",
         "False",
         "0",
         "0",
         "0",
         "0",
         "0",
         "0",
         "0",
         "0",
         "0",
         "0",
         "0",
         "0",
         "0",
         "0",
         "0",
         "0",
         "0",
         "0",
         "0",
         "0",
         "0",
         "0",
         "0",
         "0",
         "0",
         "0",
         "0",
         "1"
        ],
        [
         "31",
         "Что-то Что-то Что-то, пространство вспомогательных средств",
         "Something Something Something, space of aids",
         "edptmv5",
         "negative_dude",
         "cringe",
         "t3_ae8vgy",
         "t1_ednsm9x",
         "1547135000.0",
         "19",
         "False",
         "0",
         "0",
         "0",
         "0",
         "0",
         "0",
         "0",
         "0",
         "0",
         "0",
         "0",
         "0",
         "0",
         "0",
         "0",
         "0",
         "0",
         "0",
         "0",
         "0",
         "0",
         "0",
         "0",
         "0",
         "0",
         "0",
         "0",
         "1"
        ],
        [
         "32",
         "Мрачный и забавный, но не очень приятный парень. Ему еще предстоит назвать мертвых девушек шлюхами за то, что они отказались переспать с ним.",
         "Dark and funny, but not really nice guy. He has yet to call the dead girls whores for declining to sleep with him. ",
         "eerqrp7",
         "porky2468",
         "lostredditors",
         "t3_aiy09d",
         "t3_aiy09d",
         "1548256600.0",
         "61",
         "False",
         "0",
         "0",
         "0",
         "0",
         "0",
         "0",
         "0",
         "0",
         "0",
         "1",
         "0",
         "1",
         "0",
         "0",
         "0",
         "0",
         "0",
         "0",
         "0",
         "0",
         "0",
         "0",
         "0",
         "0",
         "0",
         "0",
         "0",
         "0"
        ],
        [
         "33",
         "Я, наверное, проехал пару сотен миль на своем компактном колесе. Это все еще там прямо сейчас.",
         "I've probably put a couple hundred miles on my space saver tire. It's still on there right now.",
         "eeodlb2",
         "DicedPeppers",
         "IdiotsInCars",
         "t3_aihdsb",
         "t1_eentqm0",
         "1548140500.0",
         "6",
         "False",
         "0",
         "0",
         "0",
         "0",
         "0",
         "0",
         "0",
         "0",
         "0",
         "0",
         "0",
         "0",
         "0",
         "0",
         "0",
         "0",
         "0",
         "0",
         "0",
         "0",
         "0",
         "0",
         "0",
         "0",
         "0",
         "0",
         "0",
         "1"
        ],
        [
         "34",
         "Я рад, что с ним все в порядке, но я еще больше рад, что это не та самая гифка, где парень катается на лыжах или спускается с парашютом с горы.",
         "I’m glad he’s okay but I’m even gladder it’s not that same gif of the guy ski/parachuting down a mountain",
         "ed9gnqk",
         "ShadycrossFade",
         "nonononoyes",
         "t3_ackwpa",
         "t3_ackwpa",
         "1546645100.0",
         "46",
         "False",
         "0",
         "0",
         "0",
         "0",
         "0",
         "0",
         "0",
         "0",
         "0",
         "0",
         "0",
         "0",
         "0",
         "0",
         "0",
         "1",
         "0",
         "0",
         "0",
         "0",
         "0",
         "0",
         "0",
         "0",
         "0",
         "0",
         "0",
         "0"
        ],
        [
         "35",
         "хороший!! я попробую это",
         "nice!! I'll try this one",
         "edk0nru",
         "travellingsaleslady",
         "AskWomen",
         "t3_adsxxn",
         "t1_edjxz8r",
         "1546949900.0",
         "23",
         "False",
         "1",
         "0",
         "0",
         "0",
         "0",
         "0",
         "0",
         "0",
         "0",
         "0",
         "0",
         "0",
         "0",
         "0",
         "0",
         "0",
         "0",
         "0",
         "0",
         "0",
         "0",
         "0",
         "0",
         "0",
         "0",
         "0",
         "0",
         "0"
        ],
        [
         "36",
         "Терпеть не могу [ИМЯ]. Особенно после ее видео «татуирую себе лицо».",
         "I can't stand [NAME]. Especially since her \"tatooing my own face\" video. ",
         "ed1ag17",
         "trowellslut",
         "BeautyGuruChatter",
         "t3_ablo6e",
         "t3_ablo6e",
         "1546376700.0",
         "70",
         "False",
         "0",
         "0",
         "0",
         "0",
         "0",
         "0",
         "0",
         "0",
         "0",
         "0",
         "1",
         "0",
         "0",
         "0",
         "0",
         "0",
         "0",
         "0",
         "0",
         "0",
         "0",
         "0",
         "0",
         "0",
         "0",
         "0",
         "0",
         "0"
        ],
        [
         "37",
         "Я только что пришел домой, что это за состав? Я люблю тебя, [ИМЯ], ты безумный ублюдок!!!",
         "I just came home, what the fuck is this lineup? I love you [NAME] you mad bastard !!!",
         "eesj5ib",
         "--Kaiser--",
         "Barca",
         "t3_aj3ltd",
         "t3_aj3ltd",
         "1548275800.0",
         "23",
         "False",
         "0",
         "0",
         "0",
         "0",
         "0",
         "0",
         "0",
         "0",
         "0",
         "0",
         "0",
         "0",
         "0",
         "0",
         "0",
         "0",
         "0",
         "0",
         "1",
         "0",
         "0",
         "0",
         "0",
         "0",
         "0",
         "0",
         "0",
         "0"
        ],
        [
         "38",
         "Иди тролль в другом месте. Этой женщине нужна поддержка, а не грубые вопросы.",
         "Go troll elsewhere. This woman needs support, not crass questions.",
         "ef73maf",
         "quixoticmelody",
         "dating",
         "t3_akkskm",
         "t1_ef6l3mo",
         "1548703900.0",
         "4",
         "False",
         "0",
         "0",
         "0",
         "1",
         "0",
         "0",
         "0",
         "0",
         "0",
         "0",
         "0",
         "0",
         "0",
         "0",
         "0",
         "0",
         "0",
         "0",
         "0",
         "0",
         "0",
         "0",
         "0",
         "0",
         "0",
         "0",
         "0",
         "0"
        ],
        [
         "39",
         "Просто слухи в сети, скорее всего, этого не произойдет.",
         "Just rumors online, it most likely won't happen",
         "efdvxbg",
         "shadow_spinner0",
         "SquaredCircle",
         "t3_al87uo",
         "t1_efdsuvl",
         "1548878800.0",
         "16",
         "False",
         "0",
         "0",
         "0",
         "1",
         "0",
         "0",
         "0",
         "0",
         "0",
         "0",
         "0",
         "0",
         "0",
         "0",
         "0",
         "0",
         "0",
         "0",
         "0",
         "0",
         "0",
         "0",
         "0",
         "0",
         "0",
         "0",
         "0",
         "0"
        ],
        [
         "40",
         "На. Редактирую свой пост. Извините за невежество.",
         "Na. Rediting my post. Sorry for the ignorance.",
         "ef4lp09",
         "savagesmasher",
         "heroesofthestorm",
         "t3_aket6i",
         "t1_ef4kj0i",
         "1548627300.0",
         "55",
         "False",
         "0",
         "0",
         "0",
         "0",
         "0",
         "0",
         "0",
         "0",
         "0",
         "0",
         "0",
         "0",
         "0",
         "0",
         "0",
         "0",
         "0",
         "0",
         "0",
         "0",
         "0",
         "0",
         "0",
         "0",
         "1",
         "0",
         "0",
         "0"
        ],
        [
         "41",
         "Поскольку создатели контента не заслуживают оплаты, ваши секунды, потраченные на прослушивание рекламы, слишком ценны!",
         "Because the content creators don't deserve to be paid, your seconds spent listening to ads are too valuable!",
         "ef0tnl6",
         "ChaplainRock",
         "LifeProTips",
         "t3_ak11o1",
         "t3_ak11o1",
         "1548519700.0",
         "7",
         "False",
         "0",
         "0",
         "0",
         "0",
         "0",
         "0",
         "1",
         "1",
         "0",
         "0",
         "0",
         "0",
         "0",
         "0",
         "0",
         "0",
         "0",
         "0",
         "0",
         "0",
         "0",
         "0",
         "0",
         "0",
         "0",
         "0",
         "0",
         "0"
        ],
        [
         "42",
         "Жалость. У меня было несколько приличных обедов там, но я никогда не ходил туда ночью.",
         "Pity. I had some decent lunches there, but never went there at night.",
         "ee04wu6",
         "The_Inflicted",
         "nashville",
         "t3_afncxn",
         "t3_afncxn",
         "1547413600.0",
         "16",
         "False",
         "0",
         "0",
         "0",
         "0",
         "0",
         "0",
         "0",
         "0",
         "0",
         "0",
         "0",
         "0",
         "0",
         "0",
         "0",
         "0",
         "0",
         "0",
         "0",
         "0",
         "0",
         "0",
         "0",
         "0",
         "1",
         "0",
         "0",
         "0"
        ],
        [
         "43",
         "Пожалуй, самое крутое, что я видел в этой теме",
         "By far the coolest thing I've seen on this thread yet",
         "edm3k6w",
         "W8nd3rW8man",
         "popping",
         "t3_ads2ve",
         "t3_ads2ve",
         "1547009300.0",
         "78",
         "False",
         "0",
         "0",
         "0",
         "0",
         "0",
         "0",
         "0",
         "0",
         "0",
         "0",
         "0",
         "0",
         "0",
         "0",
         "0",
         "0",
         "0",
         "1",
         "0",
         "0",
         "0",
         "0",
         "0",
         "0",
         "0",
         "0",
         "0",
         "0"
        ],
        [
         "44",
         "Какие доказательства вообще свидетельствуют о том, что [ИМЯ] был соучастником?",
         "What evidence at all shows that [NAME] was an accomplice?",
         "ee6lcw2",
         "jrr6415sun",
         "MakingaMurderer",
         "t3_aghd1k",
         "t1_ee6g8ht",
         "1547627300.0",
         "25",
         "False",
         "0",
         "0",
         "0",
         "0",
         "0",
         "0",
         "0",
         "0",
         "0",
         "0",
         "0",
         "0",
         "0",
         "0",
         "0",
         "0",
         "0",
         "0",
         "0",
         "0",
         "0",
         "0",
         "0",
         "0",
         "0",
         "0",
         "0",
         "1"
        ],
        [
         "45",
         ">не панацея. Раз у нас такого нет, разве это не следующий лучший вариант?",
         ">not a cure-all. Since we don't have such a thing, is this not the next best option?",
         "eecpk36",
         "malicart",
         "science",
         "t3_ah99kv",
         "t1_eecir22",
         "1547818400.0",
         "5",
         "False",
         "0",
         "0",
         "0",
         "0",
         "0",
         "0",
         "1",
         "0",
         "0",
         "0",
         "0",
         "0",
         "0",
         "0",
         "0",
         "0",
         "0",
         "0",
         "0",
         "0",
         "0",
         "0",
         "0",
         "0",
         "0",
         "0",
         "0",
         "0"
        ],
        [
         "46",
         "Если есть закономерность, то да.",
         "If there’s a pattern, yes.",
         "ed58r0k",
         "kbecks06",
         "ukpolitics",
         "t3_ac3lc1",
         "t1_ed51fzn",
         "1546518400.0",
         "37",
         "False",
         "0",
         "0",
         "0",
         "0",
         "1",
         "0",
         "0",
         "0",
         "0",
         "0",
         "0",
         "0",
         "0",
         "0",
         "0",
         "0",
         "0",
         "0",
         "0",
         "0",
         "0",
         "0",
         "0",
         "0",
         "0",
         "0",
         "0",
         "0"
        ],
        [
         "47",
         "Если [ИМЯ] будет выполнять аналогичную роль до конца года, то я ни в коем случае не возьму его на себя... особенно Sony",
         "If [NAME] has similar role to end year then no way am I taking those over him ...especially Sony",
         "edo1hi2",
         "noobiepoobie",
         "fantasyfootball",
         "t3_aeaikj",
         "t1_ednqu7c",
         "1547072000.0",
         "52",
         "False",
         "0",
         "0",
         "0",
         "0",
         "0",
         "0",
         "0",
         "0",
         "0",
         "0",
         "0",
         "0",
         "0",
         "0",
         "0",
         "0",
         "0",
         "0",
         "0",
         "0",
         "0",
         "0",
         "0",
         "0",
         "0",
         "0",
         "0",
         "1"
        ],
        [
         "48",
         "Ой, ой, я неправильно прочитала исходный комментарий",
         "Oh whoops, I misread the original comment",
         "ed4vaif",
         "pierifle",
         "leagueoflegends",
         "t3_ac1pk8",
         "t1_ed4v7pn",
         "1546497800.0",
         "42",
         "False",
         "0",
         "0",
         "0",
         "0",
         "0",
         "0",
         "1",
         "0",
         "0",
         "0",
         "0",
         "0",
         "0",
         "0",
         "0",
         "0",
         "0",
         "0",
         "0",
         "0",
         "0",
         "0",
         "1",
         "0",
         "0",
         "0",
         "0",
         "0"
        ],
        [
         "49",
         "Посылаю вибрации любви и силы <3",
         "Sending love and strength vibes <3",
         "ee5ede3",
         "bombay2beijing",
         "NarcissisticAbuse",
         "t3_aga3mi",
         "t1_ee5e6em",
         "1547588000.0",
         "4",
         "False",
         "0",
         "0",
         "0",
         "0",
         "0",
         "0",
         "0",
         "0",
         "0",
         "0",
         "0",
         "0",
         "0",
         "0",
         "0",
         "0",
         "0",
         "1",
         "0",
         "0",
         "1",
         "0",
         "0",
         "0",
         "0",
         "0",
         "0",
         "0"
        ]
       ],
       "shape": {
        "columns": 38,
        "rows": 211225
       }
      },
      "text/html": [
       "<div>\n",
       "<style scoped>\n",
       "    .dataframe tbody tr th:only-of-type {\n",
       "        vertical-align: middle;\n",
       "    }\n",
       "\n",
       "    .dataframe tbody tr th {\n",
       "        vertical-align: top;\n",
       "    }\n",
       "\n",
       "    .dataframe thead th {\n",
       "        text-align: right;\n",
       "    }\n",
       "</style>\n",
       "<table border=\"1\" class=\"dataframe\">\n",
       "  <thead>\n",
       "    <tr style=\"text-align: right;\">\n",
       "      <th></th>\n",
       "      <th>ru_text</th>\n",
       "      <th>text</th>\n",
       "      <th>id</th>\n",
       "      <th>author</th>\n",
       "      <th>subreddit</th>\n",
       "      <th>link_id</th>\n",
       "      <th>parent_id</th>\n",
       "      <th>created_utc</th>\n",
       "      <th>rater_id</th>\n",
       "      <th>example_very_unclear</th>\n",
       "      <th>...</th>\n",
       "      <th>love</th>\n",
       "      <th>nervousness</th>\n",
       "      <th>optimism</th>\n",
       "      <th>pride</th>\n",
       "      <th>realization</th>\n",
       "      <th>relief</th>\n",
       "      <th>remorse</th>\n",
       "      <th>sadness</th>\n",
       "      <th>surprise</th>\n",
       "      <th>neutral</th>\n",
       "    </tr>\n",
       "  </thead>\n",
       "  <tbody>\n",
       "    <tr>\n",
       "      <th>0</th>\n",
       "      <td>Эта игра причинила мне боль.</td>\n",
       "      <td>That game hurt.</td>\n",
       "      <td>eew5j0j</td>\n",
       "      <td>Brdd9</td>\n",
       "      <td>nrl</td>\n",
       "      <td>t3_ajis4z</td>\n",
       "      <td>t1_eew18eq</td>\n",
       "      <td>1.548381e+09</td>\n",
       "      <td>1</td>\n",
       "      <td>False</td>\n",
       "      <td>...</td>\n",
       "      <td>0</td>\n",
       "      <td>0</td>\n",
       "      <td>0</td>\n",
       "      <td>0</td>\n",
       "      <td>0</td>\n",
       "      <td>0</td>\n",
       "      <td>0</td>\n",
       "      <td>1</td>\n",
       "      <td>0</td>\n",
       "      <td>0</td>\n",
       "    </tr>\n",
       "    <tr>\n",
       "      <th>1</th>\n",
       "      <td>&gt;сексуальность не должна быть групповой катего...</td>\n",
       "      <td>&gt;sexuality shouldn’t be a grouping category I...</td>\n",
       "      <td>eemcysk</td>\n",
       "      <td>TheGreen888</td>\n",
       "      <td>unpopularopinion</td>\n",
       "      <td>t3_ai4q37</td>\n",
       "      <td>t3_ai4q37</td>\n",
       "      <td>1.548084e+09</td>\n",
       "      <td>37</td>\n",
       "      <td>False</td>\n",
       "      <td>...</td>\n",
       "      <td>0</td>\n",
       "      <td>0</td>\n",
       "      <td>0</td>\n",
       "      <td>0</td>\n",
       "      <td>0</td>\n",
       "      <td>0</td>\n",
       "      <td>0</td>\n",
       "      <td>0</td>\n",
       "      <td>0</td>\n",
       "      <td>0</td>\n",
       "    </tr>\n",
       "    <tr>\n",
       "      <th>2</th>\n",
       "      <td>Ты правильно поступаешь, если тебе все равно, ...</td>\n",
       "      <td>You do right, if you don't care then fuck 'em!</td>\n",
       "      <td>ed2mah1</td>\n",
       "      <td>Labalool</td>\n",
       "      <td>confessions</td>\n",
       "      <td>t3_abru74</td>\n",
       "      <td>t1_ed2m7g7</td>\n",
       "      <td>1.546428e+09</td>\n",
       "      <td>37</td>\n",
       "      <td>False</td>\n",
       "      <td>...</td>\n",
       "      <td>0</td>\n",
       "      <td>0</td>\n",
       "      <td>0</td>\n",
       "      <td>0</td>\n",
       "      <td>0</td>\n",
       "      <td>0</td>\n",
       "      <td>0</td>\n",
       "      <td>0</td>\n",
       "      <td>0</td>\n",
       "      <td>1</td>\n",
       "    </tr>\n",
       "    <tr>\n",
       "      <th>3</th>\n",
       "      <td>Чувак, я обожаю Reddit.</td>\n",
       "      <td>Man I love reddit.</td>\n",
       "      <td>eeibobj</td>\n",
       "      <td>MrsRobertshaw</td>\n",
       "      <td>facepalm</td>\n",
       "      <td>t3_ahulml</td>\n",
       "      <td>t3_ahulml</td>\n",
       "      <td>1.547965e+09</td>\n",
       "      <td>18</td>\n",
       "      <td>False</td>\n",
       "      <td>...</td>\n",
       "      <td>1</td>\n",
       "      <td>0</td>\n",
       "      <td>0</td>\n",
       "      <td>0</td>\n",
       "      <td>0</td>\n",
       "      <td>0</td>\n",
       "      <td>0</td>\n",
       "      <td>0</td>\n",
       "      <td>0</td>\n",
       "      <td>0</td>\n",
       "    </tr>\n",
       "    <tr>\n",
       "      <th>4</th>\n",
       "      <td>[ИМЯ] не было рядом с ними, он был рядом с «Со...</td>\n",
       "      <td>[NAME] was nowhere near them, he was by the Fa...</td>\n",
       "      <td>eda6yn6</td>\n",
       "      <td>American_Fascist713</td>\n",
       "      <td>starwarsspeculation</td>\n",
       "      <td>t3_ackt2f</td>\n",
       "      <td>t1_eda65q2</td>\n",
       "      <td>1.546669e+09</td>\n",
       "      <td>2</td>\n",
       "      <td>False</td>\n",
       "      <td>...</td>\n",
       "      <td>0</td>\n",
       "      <td>0</td>\n",
       "      <td>0</td>\n",
       "      <td>0</td>\n",
       "      <td>0</td>\n",
       "      <td>0</td>\n",
       "      <td>0</td>\n",
       "      <td>0</td>\n",
       "      <td>0</td>\n",
       "      <td>1</td>\n",
       "    </tr>\n",
       "    <tr>\n",
       "      <th>...</th>\n",
       "      <td>...</td>\n",
       "      <td>...</td>\n",
       "      <td>...</td>\n",
       "      <td>...</td>\n",
       "      <td>...</td>\n",
       "      <td>...</td>\n",
       "      <td>...</td>\n",
       "      <td>...</td>\n",
       "      <td>...</td>\n",
       "      <td>...</td>\n",
       "      <td>...</td>\n",
       "      <td>...</td>\n",
       "      <td>...</td>\n",
       "      <td>...</td>\n",
       "      <td>...</td>\n",
       "      <td>...</td>\n",
       "      <td>...</td>\n",
       "      <td>...</td>\n",
       "      <td>...</td>\n",
       "      <td>...</td>\n",
       "      <td>...</td>\n",
       "    </tr>\n",
       "    <tr>\n",
       "      <th>211220</th>\n",
       "      <td>Всем нравится [ИМЯ].</td>\n",
       "      <td>Everyone likes [NAME].</td>\n",
       "      <td>ee6pagw</td>\n",
       "      <td>Senshado</td>\n",
       "      <td>heroesofthestorm</td>\n",
       "      <td>t3_agjf24</td>\n",
       "      <td>t3_agjf24</td>\n",
       "      <td>1.547634e+09</td>\n",
       "      <td>16</td>\n",
       "      <td>False</td>\n",
       "      <td>...</td>\n",
       "      <td>1</td>\n",
       "      <td>0</td>\n",
       "      <td>0</td>\n",
       "      <td>0</td>\n",
       "      <td>0</td>\n",
       "      <td>0</td>\n",
       "      <td>0</td>\n",
       "      <td>0</td>\n",
       "      <td>0</td>\n",
       "      <td>0</td>\n",
       "    </tr>\n",
       "    <tr>\n",
       "      <th>211221</th>\n",
       "      <td>Что ж, когда вы импортировали около миллиона и...</td>\n",
       "      <td>Well when you’ve imported about a gazillion of...</td>\n",
       "      <td>ef28nod</td>\n",
       "      <td>5inchloser</td>\n",
       "      <td>nottheonion</td>\n",
       "      <td>t3_ak26t3</td>\n",
       "      <td>t3_ak26t3</td>\n",
       "      <td>1.548553e+09</td>\n",
       "      <td>15</td>\n",
       "      <td>False</td>\n",
       "      <td>...</td>\n",
       "      <td>0</td>\n",
       "      <td>0</td>\n",
       "      <td>0</td>\n",
       "      <td>0</td>\n",
       "      <td>0</td>\n",
       "      <td>0</td>\n",
       "      <td>0</td>\n",
       "      <td>0</td>\n",
       "      <td>0</td>\n",
       "      <td>0</td>\n",
       "    </tr>\n",
       "    <tr>\n",
       "      <th>211222</th>\n",
       "      <td>Это выглядит потрясающе</td>\n",
       "      <td>That looks amazing</td>\n",
       "      <td>ee8hse1</td>\n",
       "      <td>springt1me</td>\n",
       "      <td>shittyfoodporn</td>\n",
       "      <td>t3_agrnqb</td>\n",
       "      <td>t3_agrnqb</td>\n",
       "      <td>1.547684e+09</td>\n",
       "      <td>70</td>\n",
       "      <td>False</td>\n",
       "      <td>...</td>\n",
       "      <td>0</td>\n",
       "      <td>0</td>\n",
       "      <td>0</td>\n",
       "      <td>0</td>\n",
       "      <td>0</td>\n",
       "      <td>0</td>\n",
       "      <td>0</td>\n",
       "      <td>0</td>\n",
       "      <td>0</td>\n",
       "      <td>0</td>\n",
       "    </tr>\n",
       "    <tr>\n",
       "      <th>211223</th>\n",
       "      <td>FDA есть за что критиковать. Но, как и здесь, ...</td>\n",
       "      <td>The FDA has plenty to criticize. But like here...</td>\n",
       "      <td>edrhoxh</td>\n",
       "      <td>enamedata</td>\n",
       "      <td>medicine</td>\n",
       "      <td>t3_aejqzd</td>\n",
       "      <td>t1_edrgdtx</td>\n",
       "      <td>1.547169e+09</td>\n",
       "      <td>4</td>\n",
       "      <td>False</td>\n",
       "      <td>...</td>\n",
       "      <td>0</td>\n",
       "      <td>0</td>\n",
       "      <td>0</td>\n",
       "      <td>0</td>\n",
       "      <td>0</td>\n",
       "      <td>0</td>\n",
       "      <td>0</td>\n",
       "      <td>0</td>\n",
       "      <td>0</td>\n",
       "      <td>0</td>\n",
       "    </tr>\n",
       "    <tr>\n",
       "      <th>211224</th>\n",
       "      <td>Ссылка на рабочий стол: ^^/r/HelperBot_ ^^Пони...</td>\n",
       "      <td>Desktop link: ^^/r/HelperBot_ ^^Downvote ^^to ...</td>\n",
       "      <td>edze9g4</td>\n",
       "      <td>HelperBot_</td>\n",
       "      <td>MorbidReality</td>\n",
       "      <td>t3_afhw30</td>\n",
       "      <td>t1_edze91s</td>\n",
       "      <td>1.547397e+09</td>\n",
       "      <td>61</td>\n",
       "      <td>False</td>\n",
       "      <td>...</td>\n",
       "      <td>0</td>\n",
       "      <td>0</td>\n",
       "      <td>0</td>\n",
       "      <td>0</td>\n",
       "      <td>0</td>\n",
       "      <td>0</td>\n",
       "      <td>0</td>\n",
       "      <td>0</td>\n",
       "      <td>0</td>\n",
       "      <td>0</td>\n",
       "    </tr>\n",
       "  </tbody>\n",
       "</table>\n",
       "<p>211225 rows × 38 columns</p>\n",
       "</div>"
      ],
      "text/plain": [
       "                                                  ru_text  \\\n",
       "0                            Эта игра причинила мне боль.   \n",
       "1       >сексуальность не должна быть групповой катего...   \n",
       "2       Ты правильно поступаешь, если тебе все равно, ...   \n",
       "3                                 Чувак, я обожаю Reddit.   \n",
       "4       [ИМЯ] не было рядом с ними, он был рядом с «Со...   \n",
       "...                                                   ...   \n",
       "211220                               Всем нравится [ИМЯ].   \n",
       "211221  Что ж, когда вы импортировали около миллиона и...   \n",
       "211222                            Это выглядит потрясающе   \n",
       "211223  FDA есть за что критиковать. Но, как и здесь, ...   \n",
       "211224  Ссылка на рабочий стол: ^^/r/HelperBot_ ^^Пони...   \n",
       "\n",
       "                                                     text       id  \\\n",
       "0                                         That game hurt.  eew5j0j   \n",
       "1        >sexuality shouldn’t be a grouping category I...  eemcysk   \n",
       "2          You do right, if you don't care then fuck 'em!  ed2mah1   \n",
       "3                                      Man I love reddit.  eeibobj   \n",
       "4       [NAME] was nowhere near them, he was by the Fa...  eda6yn6   \n",
       "...                                                   ...      ...   \n",
       "211220                             Everyone likes [NAME].  ee6pagw   \n",
       "211221  Well when you’ve imported about a gazillion of...  ef28nod   \n",
       "211222                                 That looks amazing  ee8hse1   \n",
       "211223  The FDA has plenty to criticize. But like here...  edrhoxh   \n",
       "211224  Desktop link: ^^/r/HelperBot_ ^^Downvote ^^to ...  edze9g4   \n",
       "\n",
       "                     author            subreddit    link_id   parent_id  \\\n",
       "0                     Brdd9                  nrl  t3_ajis4z  t1_eew18eq   \n",
       "1               TheGreen888     unpopularopinion  t3_ai4q37   t3_ai4q37   \n",
       "2                  Labalool          confessions  t3_abru74  t1_ed2m7g7   \n",
       "3             MrsRobertshaw             facepalm  t3_ahulml   t3_ahulml   \n",
       "4       American_Fascist713  starwarsspeculation  t3_ackt2f  t1_eda65q2   \n",
       "...                     ...                  ...        ...         ...   \n",
       "211220             Senshado     heroesofthestorm  t3_agjf24   t3_agjf24   \n",
       "211221           5inchloser          nottheonion  t3_ak26t3   t3_ak26t3   \n",
       "211222           springt1me       shittyfoodporn  t3_agrnqb   t3_agrnqb   \n",
       "211223            enamedata             medicine  t3_aejqzd  t1_edrgdtx   \n",
       "211224           HelperBot_        MorbidReality  t3_afhw30  t1_edze91s   \n",
       "\n",
       "         created_utc  rater_id  example_very_unclear  ...  love  nervousness  \\\n",
       "0       1.548381e+09         1                 False  ...     0            0   \n",
       "1       1.548084e+09        37                 False  ...     0            0   \n",
       "2       1.546428e+09        37                 False  ...     0            0   \n",
       "3       1.547965e+09        18                 False  ...     1            0   \n",
       "4       1.546669e+09         2                 False  ...     0            0   \n",
       "...              ...       ...                   ...  ...   ...          ...   \n",
       "211220  1.547634e+09        16                 False  ...     1            0   \n",
       "211221  1.548553e+09        15                 False  ...     0            0   \n",
       "211222  1.547684e+09        70                 False  ...     0            0   \n",
       "211223  1.547169e+09         4                 False  ...     0            0   \n",
       "211224  1.547397e+09        61                 False  ...     0            0   \n",
       "\n",
       "        optimism  pride  realization  relief  remorse  sadness  surprise  \\\n",
       "0              0      0            0       0        0        1         0   \n",
       "1              0      0            0       0        0        0         0   \n",
       "2              0      0            0       0        0        0         0   \n",
       "3              0      0            0       0        0        0         0   \n",
       "4              0      0            0       0        0        0         0   \n",
       "...          ...    ...          ...     ...      ...      ...       ...   \n",
       "211220         0      0            0       0        0        0         0   \n",
       "211221         0      0            0       0        0        0         0   \n",
       "211222         0      0            0       0        0        0         0   \n",
       "211223         0      0            0       0        0        0         0   \n",
       "211224         0      0            0       0        0        0         0   \n",
       "\n",
       "        neutral  \n",
       "0             0  \n",
       "1             0  \n",
       "2             1  \n",
       "3             0  \n",
       "4             1  \n",
       "...         ...  \n",
       "211220        0  \n",
       "211221        0  \n",
       "211222        0  \n",
       "211223        0  \n",
       "211224        0  \n",
       "\n",
       "[211225 rows x 38 columns]"
      ]
     },
     "execution_count": 2,
     "metadata": {},
     "output_type": "execute_result"
    }
   ],
   "source": [
    "columns = ['Tweet ID', 'entity', 'sentiment', 'content']\n",
    "\n",
    "ax = pd.read_parquet('datasets/goemotions.parquet')\n",
    "ax"
   ]
  },
  {
   "cell_type": "code",
   "execution_count": 3,
   "id": "ef5844ef",
   "metadata": {},
   "outputs": [
    {
     "data": {
      "application/vnd.microsoft.datawrangler.viewer.v0+json": {
       "columns": [
        {
         "name": "index",
         "rawType": "object",
         "type": "string"
        },
        {
         "name": "0",
         "rawType": "int64",
         "type": "integer"
        }
       ],
       "ref": "c112e3d1-df0c-4878-8b55-cf4c4118d9d9",
       "rows": [
        [
         "ru_text",
         "0"
        ],
        [
         "text",
         "0"
        ],
        [
         "id",
         "0"
        ],
        [
         "author",
         "0"
        ],
        [
         "subreddit",
         "0"
        ],
        [
         "link_id",
         "0"
        ],
        [
         "parent_id",
         "0"
        ],
        [
         "created_utc",
         "0"
        ],
        [
         "rater_id",
         "0"
        ],
        [
         "example_very_unclear",
         "0"
        ],
        [
         "admiration",
         "0"
        ],
        [
         "amusement",
         "0"
        ],
        [
         "anger",
         "0"
        ],
        [
         "annoyance",
         "0"
        ],
        [
         "approval",
         "0"
        ],
        [
         "caring",
         "0"
        ],
        [
         "confusion",
         "0"
        ],
        [
         "curiosity",
         "0"
        ],
        [
         "desire",
         "0"
        ],
        [
         "disappointment",
         "0"
        ],
        [
         "disapproval",
         "0"
        ],
        [
         "disgust",
         "0"
        ],
        [
         "embarrassment",
         "0"
        ],
        [
         "excitement",
         "0"
        ],
        [
         "fear",
         "0"
        ],
        [
         "gratitude",
         "0"
        ],
        [
         "grief",
         "0"
        ],
        [
         "joy",
         "0"
        ],
        [
         "love",
         "0"
        ],
        [
         "nervousness",
         "0"
        ],
        [
         "optimism",
         "0"
        ],
        [
         "pride",
         "0"
        ],
        [
         "realization",
         "0"
        ],
        [
         "relief",
         "0"
        ],
        [
         "remorse",
         "0"
        ],
        [
         "sadness",
         "0"
        ],
        [
         "surprise",
         "0"
        ],
        [
         "neutral",
         "0"
        ]
       ],
       "shape": {
        "columns": 1,
        "rows": 38
       }
      },
      "text/plain": [
       "ru_text                 0\n",
       "text                    0\n",
       "id                      0\n",
       "author                  0\n",
       "subreddit               0\n",
       "link_id                 0\n",
       "parent_id               0\n",
       "created_utc             0\n",
       "rater_id                0\n",
       "example_very_unclear    0\n",
       "admiration              0\n",
       "amusement               0\n",
       "anger                   0\n",
       "annoyance               0\n",
       "approval                0\n",
       "caring                  0\n",
       "confusion               0\n",
       "curiosity               0\n",
       "desire                  0\n",
       "disappointment          0\n",
       "disapproval             0\n",
       "disgust                 0\n",
       "embarrassment           0\n",
       "excitement              0\n",
       "fear                    0\n",
       "gratitude               0\n",
       "grief                   0\n",
       "joy                     0\n",
       "love                    0\n",
       "nervousness             0\n",
       "optimism                0\n",
       "pride                   0\n",
       "realization             0\n",
       "relief                  0\n",
       "remorse                 0\n",
       "sadness                 0\n",
       "surprise                0\n",
       "neutral                 0\n",
       "dtype: int64"
      ]
     },
     "execution_count": 3,
     "metadata": {},
     "output_type": "execute_result"
    }
   ],
   "source": [
    "ax.isnull().sum()"
   ]
  },
  {
   "cell_type": "code",
   "execution_count": 4,
   "id": "8e2a84e6",
   "metadata": {},
   "outputs": [
    {
     "data": {
      "text/plain": [
       "211225"
      ]
     },
     "execution_count": 4,
     "metadata": {},
     "output_type": "execute_result"
    }
   ],
   "source": [
    "n = len(ax)\n",
    "n"
   ]
  },
  {
   "cell_type": "code",
   "execution_count": 5,
   "id": "91902e39",
   "metadata": {},
   "outputs": [
    {
     "name": "stderr",
     "output_type": "stream",
     "text": [
      "/home/yeaz/Desktop/sentiment/venv/lib/python3.12/site-packages/numpy/_core/fromnumeric.py:57: FutureWarning: 'DataFrame.swapaxes' is deprecated and will be removed in a future version. Please use 'DataFrame.transpose' instead.\n",
      "  return bound(*args, **kwds)\n"
     ]
    }
   ],
   "source": [
    "parts = np.array_split(ax, 72)\n",
    "\n",
    "for i, part in enumerate(parts):\n",
    "    part.to_csv(f'datasets/data{i+1}.csv', index=False)"
   ]
  },
  {
   "cell_type": "code",
   "execution_count": 6,
   "id": "8017cf6d",
   "metadata": {},
   "outputs": [
    {
     "data": {
      "text/plain": [
       "['datasets/part1.csv',\n",
       " 'datasets/part2.csv',\n",
       " 'datasets/part25.csv',\n",
       " 'datasets/part26.csv',\n",
       " 'datasets/part27.csv',\n",
       " 'datasets/part28.csv',\n",
       " 'datasets/part29.csv',\n",
       " 'datasets/part3.csv',\n",
       " 'datasets/part30.csv',\n",
       " 'datasets/part49.csv',\n",
       " 'datasets/part5.csv',\n",
       " 'datasets/part50.csv',\n",
       " 'datasets/part51.csv',\n",
       " 'datasets/part52.csv',\n",
       " 'datasets/part53.csv',\n",
       " 'datasets/part54.csv',\n",
       " 'datasets/part6.csv']"
      ]
     },
     "execution_count": 6,
     "metadata": {},
     "output_type": "execute_result"
    }
   ],
   "source": [
    "csv_files = glob.glob(\"datasets/part*.csv\")\n",
    "csv_files.sort()\n",
    "csv_files"
   ]
  },
  {
   "cell_type": "code",
   "execution_count": 7,
   "id": "0c3dcad5",
   "metadata": {},
   "outputs": [],
   "source": [
    "ax = pd.concat([pd.read_csv(file) for file in csv_files], ignore_index=True)\n",
    "ax.drop_duplicates(inplace=True)"
   ]
  },
  {
   "cell_type": "code",
   "execution_count": 8,
   "id": "9c1771b2",
   "metadata": {},
   "outputs": [
    {
     "data": {
      "text/plain": [
       "Index(['ru_text', 'text', 'id', 'author', 'subreddit', 'link_id', 'parent_id',\n",
       "       'created_utc', 'rater_id', 'example_very_unclear', 'admiration',\n",
       "       'amusement', 'anger', 'annoyance', 'approval', 'caring', 'confusion',\n",
       "       'curiosity', 'desire', 'disappointment', 'disapproval', 'disgust',\n",
       "       'embarrassment', 'excitement', 'fear', 'gratitude', 'grief', 'joy',\n",
       "       'love', 'nervousness', 'optimism', 'pride', 'realization', 'relief',\n",
       "       'remorse', 'sadness', 'surprise', 'neutral', 'translated_kk'],\n",
       "      dtype='object')"
      ]
     },
     "execution_count": 8,
     "metadata": {},
     "output_type": "execute_result"
    }
   ],
   "source": [
    "ax.columns"
   ]
  },
  {
   "cell_type": "code",
   "execution_count": 9,
   "id": "c224de0d",
   "metadata": {},
   "outputs": [
    {
     "data": {
      "text/plain": [
       "28"
      ]
     },
     "execution_count": 9,
     "metadata": {},
     "output_type": "execute_result"
    }
   ],
   "source": [
    "columns = ['admiration',\n",
    "       'amusement', 'anger', 'annoyance', 'approval', 'caring', 'confusion',\n",
    "       'curiosity', 'desire', 'disappointment', 'disapproval', 'disgust',\n",
    "       'embarrassment', 'excitement', 'fear', 'gratitude', 'grief', 'joy',\n",
    "       'love', 'nervousness', 'optimism', 'pride', 'realization', 'relief',\n",
    "       'remorse', 'sadness', 'surprise', 'neutral']\n",
    "\n",
    "len(columns)"
   ]
  },
  {
   "cell_type": "code",
   "execution_count": 10,
   "id": "aabd0cff",
   "metadata": {},
   "outputs": [
    {
     "data": {
      "application/vnd.microsoft.datawrangler.viewer.v0+json": {
       "columns": [
        {
         "name": "index",
         "rawType": "object",
         "type": "string"
        },
        {
         "name": "0",
         "rawType": "int64",
         "type": "integer"
        }
       ],
       "ref": "bf71662c-5b46-42ba-8a4f-8b0a9d9de7d8",
       "rows": [
        [
         "admiration",
         "4000"
        ],
        [
         "amusement",
         "2151"
        ],
        [
         "anger",
         "1911"
        ],
        [
         "annoyance",
         "3251"
        ],
        [
         "approval",
         "4207"
        ],
        [
         "caring",
         "1429"
        ],
        [
         "confusion",
         "1852"
        ],
        [
         "curiosity",
         "2376"
        ],
        [
         "desire",
         "904"
        ],
        [
         "disappointment",
         "1982"
        ],
        [
         "disapproval",
         "2662"
        ],
        [
         "disgust",
         "1227"
        ],
        [
         "embarrassment",
         "567"
        ],
        [
         "excitement",
         "1346"
        ],
        [
         "fear",
         "729"
        ],
        [
         "gratitude",
         "2764"
        ],
        [
         "grief",
         "175"
        ],
        [
         "joy",
         "1941"
        ],
        [
         "love",
         "1915"
        ],
        [
         "nervousness",
         "415"
        ],
        [
         "optimism",
         "2087"
        ],
        [
         "pride",
         "325"
        ],
        [
         "realization",
         "2072"
        ],
        [
         "relief",
         "327"
        ],
        [
         "remorse",
         "594"
        ],
        [
         "sadness",
         "1620"
        ],
        [
         "surprise",
         "1262"
        ],
        [
         "neutral",
         "12993"
        ]
       ],
       "shape": {
        "columns": 1,
        "rows": 28
       }
      },
      "text/plain": [
       "admiration         4000\n",
       "amusement          2151\n",
       "anger              1911\n",
       "annoyance          3251\n",
       "approval           4207\n",
       "caring             1429\n",
       "confusion          1852\n",
       "curiosity          2376\n",
       "desire              904\n",
       "disappointment     1982\n",
       "disapproval        2662\n",
       "disgust            1227\n",
       "embarrassment       567\n",
       "excitement         1346\n",
       "fear                729\n",
       "gratitude          2764\n",
       "grief               175\n",
       "joy                1941\n",
       "love               1915\n",
       "nervousness         415\n",
       "optimism           2087\n",
       "pride               325\n",
       "realization        2072\n",
       "relief              327\n",
       "remorse             594\n",
       "sadness            1620\n",
       "surprise           1262\n",
       "neutral           12993\n",
       "dtype: int64"
      ]
     },
     "execution_count": 10,
     "metadata": {},
     "output_type": "execute_result"
    }
   ],
   "source": [
    "ones = (ax[columns] == 1).sum()\n",
    "ones"
   ]
  },
  {
   "cell_type": "code",
   "execution_count": 11,
   "id": "65c4584e",
   "metadata": {},
   "outputs": [
    {
     "data": {
      "application/vnd.microsoft.datawrangler.viewer.v0+json": {
       "columns": [
        {
         "name": "index",
         "rawType": "int64",
         "type": "integer"
        },
        {
         "name": "translated_kk",
         "rawType": "object",
         "type": "unknown"
        },
        {
         "name": "emotion",
         "rawType": "object",
         "type": "unknown"
        }
       ],
       "ref": "3994ba31-a3a0-4fc3-978f-e608aa6afbb9",
       "rows": [
        [
         "0",
         "Бұл ойын ұятты.",
         "['sadness']"
        ],
        [
         "1",
         ">сексуалдылық топтық категория болмауы керек. Ол сізді PPL-дан өзгеше етеді, сондықтан бұл «қоғамдық» ұғымына лайық.",
         "[]"
        ],
        [
         "2",
         "Егер ештеңе ештеңе болмаса, әйтеуір оларды құлай!",
         "['neutral']"
        ],
        [
         "3",
         "Мен reddit-ді жақсы білемін.",
         "['love']"
        ],
        [
         "4",
         "[NAME] олардың жақында тұрған жоқ, ол соқырқының yanında тұрды.",
         "['neutral']"
        ],
        [
         "5",
         "Бұл – өте маңызды құжат, сондықтан мұны әрі қарай жөнелтуі керек... Баярлалаа!",
         "['gratitude']"
        ],
        [
         "6",
         "Ол онша үлкен емес, бірақ ол әлі де өте танымал.",
         "['disapproval']"
        ],
        [
         "7",
         "Бұл - бос сөз. Мен супер [RELIGION] жоғарыokulға түскенім, мен тиненттік moms болып қалған 4 жылдың ішіндегі 2 әйелді xatırlayıram.",
         "['amusement']"
        ],
        [
         "8",
         "бұл - құмарлық ой.",
         "['amusement']"
        ],
        [
         "9",
         "\"Sponge Blurb Pubs Quaw Haha GURR ha AAa!\" финалы тым шынайы",
         "['amusement']"
        ],
        [
         "10",
         "Қазір солай болдым, соны ескере алсақ, мұның өзі маған нәсілдік туғызды.",
         "['neutral']"
        ],
        [
         "11",
         "Мен бұлды қолдамайтынын айттым, бірақ ол таны қате емес.",
         "['disappointment']"
        ],
        [
         "12",
         "Бірақ оның қайта оралуы керек! /с",
         "['neutral']"
        ],
        [
         "13",
         "Бұл біртүрлі нәрсе.",
         "['disappointment', 'disgust']"
        ],
        [
         "14",
         "Қырқаны баррам уу? /jk",
         "['neutral']"
        ],
        [
         "15",
         "Бұл - жақсы жаңалық. Бір күні бұл білімді қолдануға мәжбүр болады деп үміттенемін",
         "['admiration', 'gratitude']"
        ],
        [
         "16",
         "Бір кездері мен 91-шы жаңға жолмен жүре салысқанда, мен платформаны жақсы түсірсемін, себебі онда біршама жарық болған.",
         "['neutral']"
        ],
        [
         "17",
         "Олай болса, мен егер бұл кез келген әйел болса, онда сізге жақсы мүмкіндік бар деп айтуға болады lol",
         "['realization']"
        ],
        [
         "18",
         "Мен кездескен Panjabi ер кісілердің көбі.",
         "['admiration']"
        ],
        [
         "19",
         "Және оның сексуалдық қатыгездіктен есірткені жаппай ұстап қалуы үшін есірткені жаппай ұстап қалуы керек.",
         "['annoyance']"
        ],
        [
         "20",
         "Бұл видеода тіпті оның ойнаған ფეხსაცғары да көрсетілмейді...",
         "['neutral']"
        ],
        [
         "21",
         "Klemson үшін мақтаныш наалтыг қалай шектейді? Сақиналар ойналады?",
         "['confusion']"
        ],
        [
         "22",
         "«Ті өлсе де, бірақ бұл миний құрбандық»",
         "['optimism']"
        ],
        [
         "23",
         "Мен нені ұнамай қалғанын анықтауда. Баярлалаа қайтадан.",
         "['curiosity', 'gratitude']"
        ],
        [
         "24",
         "Бұл әрине r/BoneAppleTea-ға лайық.",
         "['neutral']"
        ],
        [
         "25",
         "“Жөп! Біз олардың мұның бір-бірінен да coloreds бармыз!”",
         "['excitement']"
        ],
        [
         "26",
         "Намайг еске түсіру! 3 ай",
         "['neutral']"
        ],
        [
         "27",
         "Еп, енді олай емес. Қан қышқылын жоғары ұстап тұр!",
         "['caring']"
        ],
        [
         "28",
         "Көтермелер, дүкен немесе көктем дүкен vpn. Nord жақсы",
         "['admiration']"
        ],
        [
         "29",
         "[NAME]-ға соншалықты қуана, соншалықты өкінішке қарай, ол यहाँ жоқ. Осы [NAME]-ты [NAME] емес, [NAME]-мен ішіп тұрған команданы төсөөлге. Өө.",
         "['disgust', 'joy', 'sadness']"
        ],
        [
         "30",
         "Бірақ [NAME] оны соншалық көңіл қалдырарлық деп айтып жатыр",
         "['neutral']"
        ],
        [
         "31",
         "Көп нәрсе Көп нәрсе, көмекші кеңістік",
         "['neutral']"
        ],
        [
         "32",
         "Тұмыр, қызығы, бірақ шын мәнінде жақсы емес. Ол сайып келгенде, оныңмен ұйықталуға құлықсыз қалған өлтірген қыздарды әлі күнге дейін кінәлі деп айта қойған жоқ.",
         "['disappointment', 'disgust']"
        ],
        [
         "33",
         "Мен, бәлкім, екі жүздеген мильді space saver торға салап тастадым. Ол әлі де сонда тұр.",
         "['neutral']"
        ],
        [
         "34",
         "Мен оның жағдайы жақсы екеніне сенемін, бірақ мен одан да жақсымын, себебі ол тауға ескелесіп, парашютпен айдайтын ер адамның пікірі емес.",
         "['gratitude']"
        ],
        [
         "35",
         "Жақсы! Би мұны ішіп аламын",
         "['admiration']"
        ],
        [
         "36",
         "Әсіресе оның «өз бетini кекітемін» деген видеосы салдарынан.",
         "['disapproval']"
        ],
        [
         "37",
         "Жақында үйіmə келсем, бұл лайна-лайна ұмтылы ма? Mən маған ұмтылымын.",
         "['love']"
        ],
        [
         "38",
         "Керісінше, тролльға барар. Бұл әйелге құлшыныс беру керек, ауыздықсыз сұрақ қоймау керек.",
         "['annoyance']"
        ],
        [
         "39",
         "Әсіресе онлайнда, бұлай болмауы ықтимал",
         "['annoyance']"
        ],
        [
         "40",
         "Және. Намаймның постын өзгертуге тырысып жатырм.",
         "['remorse']"
        ],
        [
         "41",
         "Оның үстіне, контентті әзірлеушілері төленетіні жоқ, сондықтан жарнамаға құлақ асқарған секундтар – тым қымбат!",
         "['confusion', 'curiosity']"
        ],
        [
         "42",
         "Өкінішке қарай, мен онда лайықты үдэшлэг өткіземін, бірақ мұрында ешқашан кеш болмағанмын.",
         "['remorse']"
        ],
        [
         "43",
         "Бұл салада бұрын-соңды болмаған ең ыңғайлы нәрсе",
         "['joy']"
        ],
        [
         "44",
         "[NAME] - күдікті болғаны туралы қандай дәлелдеме бар?",
         "['neutral']"
        ],
        [
         "45",
         "cure-all емес. Бізде олай жоқ болғандықтан, бұл келесі ең жақсы шешім емес пе?",
         "['confusion']"
        ],
        [
         "46",
         "Егер онда бір шеңбер бар болса, онда да.",
         "['approval']"
        ],
        [
         "47",
         "Егер [NAME] жылдың соңында ұқсас рөл ойнайтын болса, онда менің ойымша бұл рөлді ол жағына беру емес...әсіресе Sony",
         "['neutral']"
        ],
        [
         "48",
         "Өө, қате, бастапқы сөзі қате түсіндім",
         "['confusion', 'realization']"
        ],
        [
         "49",
         "Қайырымдылық пен күштілік таныту",
         "['joy', 'optimism']"
        ]
       ],
       "shape": {
        "columns": 2,
        "rows": 49873
       }
      },
      "text/html": [
       "<div>\n",
       "<style scoped>\n",
       "    .dataframe tbody tr th:only-of-type {\n",
       "        vertical-align: middle;\n",
       "    }\n",
       "\n",
       "    .dataframe tbody tr th {\n",
       "        vertical-align: top;\n",
       "    }\n",
       "\n",
       "    .dataframe thead th {\n",
       "        text-align: right;\n",
       "    }\n",
       "</style>\n",
       "<table border=\"1\" class=\"dataframe\">\n",
       "  <thead>\n",
       "    <tr style=\"text-align: right;\">\n",
       "      <th></th>\n",
       "      <th>translated_kk</th>\n",
       "      <th>emotion</th>\n",
       "    </tr>\n",
       "  </thead>\n",
       "  <tbody>\n",
       "    <tr>\n",
       "      <th>0</th>\n",
       "      <td>Бұл ойын ұятты.</td>\n",
       "      <td>[sadness]</td>\n",
       "    </tr>\n",
       "    <tr>\n",
       "      <th>1</th>\n",
       "      <td>&gt;сексуалдылық топтық категория болмауы керек. ...</td>\n",
       "      <td>[]</td>\n",
       "    </tr>\n",
       "    <tr>\n",
       "      <th>2</th>\n",
       "      <td>Егер ештеңе ештеңе болмаса, әйтеуір оларды құлай!</td>\n",
       "      <td>[neutral]</td>\n",
       "    </tr>\n",
       "    <tr>\n",
       "      <th>3</th>\n",
       "      <td>Мен reddit-ді жақсы білемін.</td>\n",
       "      <td>[love]</td>\n",
       "    </tr>\n",
       "    <tr>\n",
       "      <th>4</th>\n",
       "      <td>[NAME] олардың жақында тұрған жоқ, ол соқырқын...</td>\n",
       "      <td>[neutral]</td>\n",
       "    </tr>\n",
       "    <tr>\n",
       "      <th>...</th>\n",
       "      <td>...</td>\n",
       "      <td>...</td>\n",
       "    </tr>\n",
       "    <tr>\n",
       "      <th>49868</th>\n",
       "      <td>Бір қызығы, мен барған сайын кісі өлтіруге қар...</td>\n",
       "      <td>[confusion, disappointment]</td>\n",
       "    </tr>\n",
       "    <tr>\n",
       "      <th>49869</th>\n",
       "      <td>Ол әлі де қарқынды, үлкен болғанымен, саудаға ...</td>\n",
       "      <td>[neutral]</td>\n",
       "    </tr>\n",
       "    <tr>\n",
       "      <th>49870</th>\n",
       "      <td>Мен сақтандыру компаниясы қондырғының артын із...</td>\n",
       "      <td>[confusion, curiosity]</td>\n",
       "    </tr>\n",
       "    <tr>\n",
       "      <th>49871</th>\n",
       "      <td>Ол қарт кісілермен қатар кездескен شئ ме? Кейб...</td>\n",
       "      <td>[approval, confusion, gratitude]</td>\n",
       "    </tr>\n",
       "    <tr>\n",
       "      <th>49872</th>\n",
       "      <td>too damn high</td>\n",
       "      <td>[neutral]</td>\n",
       "    </tr>\n",
       "  </tbody>\n",
       "</table>\n",
       "<p>49873 rows × 2 columns</p>\n",
       "</div>"
      ],
      "text/plain": [
       "                                           translated_kk  \\\n",
       "0                                        Бұл ойын ұятты.   \n",
       "1      >сексуалдылық топтық категория болмауы керек. ...   \n",
       "2      Егер ештеңе ештеңе болмаса, әйтеуір оларды құлай!   \n",
       "3                           Мен reddit-ді жақсы білемін.   \n",
       "4      [NAME] олардың жақында тұрған жоқ, ол соқырқын...   \n",
       "...                                                  ...   \n",
       "49868  Бір қызығы, мен барған сайын кісі өлтіруге қар...   \n",
       "49869  Ол әлі де қарқынды, үлкен болғанымен, саудаға ...   \n",
       "49870  Мен сақтандыру компаниясы қондырғының артын із...   \n",
       "49871  Ол қарт кісілермен қатар кездескен شئ ме? Кейб...   \n",
       "49872                                      too damn high   \n",
       "\n",
       "                                emotion  \n",
       "0                             [sadness]  \n",
       "1                                    []  \n",
       "2                             [neutral]  \n",
       "3                                [love]  \n",
       "4                             [neutral]  \n",
       "...                                 ...  \n",
       "49868       [confusion, disappointment]  \n",
       "49869                         [neutral]  \n",
       "49870            [confusion, curiosity]  \n",
       "49871  [approval, confusion, gratitude]  \n",
       "49872                         [neutral]  \n",
       "\n",
       "[49873 rows x 2 columns]"
      ]
     },
     "execution_count": 11,
     "metadata": {},
     "output_type": "execute_result"
    }
   ],
   "source": [
    "emos = ax.columns[ax.columns.get_loc('admiration'):]\n",
    "\n",
    "ax['emotion'] = ax[emos].apply(lambda row: [label for label, value in row.items() if value == 1], axis=1)\n",
    "ax = ax[['translated_kk', 'emotion']]\n",
    "\n",
    "ax"
   ]
  },
  {
   "cell_type": "code",
   "execution_count": 12,
   "id": "447071da",
   "metadata": {},
   "outputs": [
    {
     "data": {
      "application/vnd.microsoft.datawrangler.viewer.v0+json": {
       "columns": [
        {
         "name": "index",
         "rawType": "int64",
         "type": "integer"
        },
        {
         "name": "translated_kk",
         "rawType": "object",
         "type": "unknown"
        },
        {
         "name": "emotion",
         "rawType": "object",
         "type": "unknown"
        }
       ],
       "ref": "ef257855-f95e-46c9-a28b-d0cdffc59a96",
       "rows": [
        [
         "0",
         "Бұл ойын ұятты.",
         "['sadness']"
        ],
        [
         "2",
         "Егер ештеңе ештеңе болмаса, әйтеуір оларды құлай!",
         "['neutral']"
        ],
        [
         "3",
         "Мен reddit-ді жақсы білемін.",
         "['love']"
        ],
        [
         "4",
         "[NAME] олардың жақында тұрған жоқ, ол соқырқының yanında тұрды.",
         "['neutral']"
        ],
        [
         "5",
         "Бұл – өте маңызды құжат, сондықтан мұны әрі қарай жөнелтуі керек... Баярлалаа!",
         "['gratitude']"
        ],
        [
         "6",
         "Ол онша үлкен емес, бірақ ол әлі де өте танымал.",
         "['disapproval']"
        ],
        [
         "7",
         "Бұл - бос сөз. Мен супер [RELIGION] жоғарыokulға түскенім, мен тиненттік moms болып қалған 4 жылдың ішіндегі 2 әйелді xatırlayıram.",
         "['amusement']"
        ],
        [
         "8",
         "бұл - құмарлық ой.",
         "['amusement']"
        ],
        [
         "9",
         "\"Sponge Blurb Pubs Quaw Haha GURR ha AAa!\" финалы тым шынайы",
         "['amusement']"
        ],
        [
         "10",
         "Қазір солай болдым, соны ескере алсақ, мұның өзі маған нәсілдік туғызды.",
         "['neutral']"
        ],
        [
         "11",
         "Мен бұлды қолдамайтынын айттым, бірақ ол таны қате емес.",
         "['disappointment']"
        ],
        [
         "12",
         "Бірақ оның қайта оралуы керек! /с",
         "['neutral']"
        ],
        [
         "13",
         "Бұл біртүрлі нәрсе.",
         "['disappointment', 'disgust']"
        ],
        [
         "14",
         "Қырқаны баррам уу? /jk",
         "['neutral']"
        ],
        [
         "15",
         "Бұл - жақсы жаңалық. Бір күні бұл білімді қолдануға мәжбүр болады деп үміттенемін",
         "['admiration', 'gratitude']"
        ],
        [
         "16",
         "Бір кездері мен 91-шы жаңға жолмен жүре салысқанда, мен платформаны жақсы түсірсемін, себебі онда біршама жарық болған.",
         "['neutral']"
        ],
        [
         "17",
         "Олай болса, мен егер бұл кез келген әйел болса, онда сізге жақсы мүмкіндік бар деп айтуға болады lol",
         "['realization']"
        ],
        [
         "18",
         "Мен кездескен Panjabi ер кісілердің көбі.",
         "['admiration']"
        ],
        [
         "19",
         "Және оның сексуалдық қатыгездіктен есірткені жаппай ұстап қалуы үшін есірткені жаппай ұстап қалуы керек.",
         "['annoyance']"
        ],
        [
         "20",
         "Бұл видеода тіпті оның ойнаған ფეხსაცғары да көрсетілмейді...",
         "['neutral']"
        ],
        [
         "21",
         "Klemson үшін мақтаныш наалтыг қалай шектейді? Сақиналар ойналады?",
         "['confusion']"
        ],
        [
         "22",
         "«Ті өлсе де, бірақ бұл миний құрбандық»",
         "['optimism']"
        ],
        [
         "23",
         "Мен нені ұнамай қалғанын анықтауда. Баярлалаа қайтадан.",
         "['curiosity', 'gratitude']"
        ],
        [
         "24",
         "Бұл әрине r/BoneAppleTea-ға лайық.",
         "['neutral']"
        ],
        [
         "25",
         "“Жөп! Біз олардың мұның бір-бірінен да coloreds бармыз!”",
         "['excitement']"
        ],
        [
         "26",
         "Намайг еске түсіру! 3 ай",
         "['neutral']"
        ],
        [
         "27",
         "Еп, енді олай емес. Қан қышқылын жоғары ұстап тұр!",
         "['caring']"
        ],
        [
         "28",
         "Көтермелер, дүкен немесе көктем дүкен vpn. Nord жақсы",
         "['admiration']"
        ],
        [
         "29",
         "[NAME]-ға соншалықты қуана, соншалықты өкінішке қарай, ол यहाँ жоқ. Осы [NAME]-ты [NAME] емес, [NAME]-мен ішіп тұрған команданы төсөөлге. Өө.",
         "['disgust', 'joy', 'sadness']"
        ],
        [
         "30",
         "Бірақ [NAME] оны соншалық көңіл қалдырарлық деп айтып жатыр",
         "['neutral']"
        ],
        [
         "31",
         "Көп нәрсе Көп нәрсе, көмекші кеңістік",
         "['neutral']"
        ],
        [
         "32",
         "Тұмыр, қызығы, бірақ шын мәнінде жақсы емес. Ол сайып келгенде, оныңмен ұйықталуға құлықсыз қалған өлтірген қыздарды әлі күнге дейін кінәлі деп айта қойған жоқ.",
         "['disappointment', 'disgust']"
        ],
        [
         "33",
         "Мен, бәлкім, екі жүздеген мильді space saver торға салап тастадым. Ол әлі де сонда тұр.",
         "['neutral']"
        ],
        [
         "34",
         "Мен оның жағдайы жақсы екеніне сенемін, бірақ мен одан да жақсымын, себебі ол тауға ескелесіп, парашютпен айдайтын ер адамның пікірі емес.",
         "['gratitude']"
        ],
        [
         "35",
         "Жақсы! Би мұны ішіп аламын",
         "['admiration']"
        ],
        [
         "36",
         "Әсіресе оның «өз бетini кекітемін» деген видеосы салдарынан.",
         "['disapproval']"
        ],
        [
         "37",
         "Жақында үйіmə келсем, бұл лайна-лайна ұмтылы ма? Mən маған ұмтылымын.",
         "['love']"
        ],
        [
         "38",
         "Керісінше, тролльға барар. Бұл әйелге құлшыныс беру керек, ауыздықсыз сұрақ қоймау керек.",
         "['annoyance']"
        ],
        [
         "39",
         "Әсіресе онлайнда, бұлай болмауы ықтимал",
         "['annoyance']"
        ],
        [
         "40",
         "Және. Намаймның постын өзгертуге тырысып жатырм.",
         "['remorse']"
        ],
        [
         "41",
         "Оның үстіне, контентті әзірлеушілері төленетіні жоқ, сондықтан жарнамаға құлақ асқарған секундтар – тым қымбат!",
         "['confusion', 'curiosity']"
        ],
        [
         "42",
         "Өкінішке қарай, мен онда лайықты үдэшлэг өткіземін, бірақ мұрында ешқашан кеш болмағанмын.",
         "['remorse']"
        ],
        [
         "43",
         "Бұл салада бұрын-соңды болмаған ең ыңғайлы нәрсе",
         "['joy']"
        ],
        [
         "44",
         "[NAME] - күдікті болғаны туралы қандай дәлелдеме бар?",
         "['neutral']"
        ],
        [
         "45",
         "cure-all емес. Бізде олай жоқ болғандықтан, бұл келесі ең жақсы шешім емес пе?",
         "['confusion']"
        ],
        [
         "46",
         "Егер онда бір шеңбер бар болса, онда да.",
         "['approval']"
        ],
        [
         "47",
         "Егер [NAME] жылдың соңында ұқсас рөл ойнайтын болса, онда менің ойымша бұл рөлді ол жағына беру емес...әсіресе Sony",
         "['neutral']"
        ],
        [
         "48",
         "Өө, қате, бастапқы сөзі қате түсіндім",
         "['confusion', 'realization']"
        ],
        [
         "49",
         "Қайырымдылық пен күштілік таныту",
         "['joy', 'optimism']"
        ],
        [
         "50",
         "Ол ештеңемен қуыршақтай қуыршақ сияқты.",
         "['admiration']"
        ]
       ],
       "shape": {
        "columns": 2,
        "rows": 49097
       }
      },
      "text/html": [
       "<div>\n",
       "<style scoped>\n",
       "    .dataframe tbody tr th:only-of-type {\n",
       "        vertical-align: middle;\n",
       "    }\n",
       "\n",
       "    .dataframe tbody tr th {\n",
       "        vertical-align: top;\n",
       "    }\n",
       "\n",
       "    .dataframe thead th {\n",
       "        text-align: right;\n",
       "    }\n",
       "</style>\n",
       "<table border=\"1\" class=\"dataframe\">\n",
       "  <thead>\n",
       "    <tr style=\"text-align: right;\">\n",
       "      <th></th>\n",
       "      <th>translated_kk</th>\n",
       "      <th>emotion</th>\n",
       "    </tr>\n",
       "  </thead>\n",
       "  <tbody>\n",
       "    <tr>\n",
       "      <th>0</th>\n",
       "      <td>Бұл ойын ұятты.</td>\n",
       "      <td>[sadness]</td>\n",
       "    </tr>\n",
       "    <tr>\n",
       "      <th>2</th>\n",
       "      <td>Егер ештеңе ештеңе болмаса, әйтеуір оларды құлай!</td>\n",
       "      <td>[neutral]</td>\n",
       "    </tr>\n",
       "    <tr>\n",
       "      <th>3</th>\n",
       "      <td>Мен reddit-ді жақсы білемін.</td>\n",
       "      <td>[love]</td>\n",
       "    </tr>\n",
       "    <tr>\n",
       "      <th>4</th>\n",
       "      <td>[NAME] олардың жақында тұрған жоқ, ол соқырқын...</td>\n",
       "      <td>[neutral]</td>\n",
       "    </tr>\n",
       "    <tr>\n",
       "      <th>5</th>\n",
       "      <td>Бұл – өте маңызды құжат, сондықтан мұны әрі қа...</td>\n",
       "      <td>[gratitude]</td>\n",
       "    </tr>\n",
       "    <tr>\n",
       "      <th>...</th>\n",
       "      <td>...</td>\n",
       "      <td>...</td>\n",
       "    </tr>\n",
       "    <tr>\n",
       "      <th>49868</th>\n",
       "      <td>Бір қызығы, мен барған сайын кісі өлтіруге қар...</td>\n",
       "      <td>[confusion, disappointment]</td>\n",
       "    </tr>\n",
       "    <tr>\n",
       "      <th>49869</th>\n",
       "      <td>Ол әлі де қарқынды, үлкен болғанымен, саудаға ...</td>\n",
       "      <td>[neutral]</td>\n",
       "    </tr>\n",
       "    <tr>\n",
       "      <th>49870</th>\n",
       "      <td>Мен сақтандыру компаниясы қондырғының артын із...</td>\n",
       "      <td>[confusion, curiosity]</td>\n",
       "    </tr>\n",
       "    <tr>\n",
       "      <th>49871</th>\n",
       "      <td>Ол қарт кісілермен қатар кездескен شئ ме? Кейб...</td>\n",
       "      <td>[approval, confusion, gratitude]</td>\n",
       "    </tr>\n",
       "    <tr>\n",
       "      <th>49872</th>\n",
       "      <td>too damn high</td>\n",
       "      <td>[neutral]</td>\n",
       "    </tr>\n",
       "  </tbody>\n",
       "</table>\n",
       "<p>49097 rows × 2 columns</p>\n",
       "</div>"
      ],
      "text/plain": [
       "                                           translated_kk  \\\n",
       "0                                        Бұл ойын ұятты.   \n",
       "2      Егер ештеңе ештеңе болмаса, әйтеуір оларды құлай!   \n",
       "3                           Мен reddit-ді жақсы білемін.   \n",
       "4      [NAME] олардың жақында тұрған жоқ, ол соқырқын...   \n",
       "5      Бұл – өте маңызды құжат, сондықтан мұны әрі қа...   \n",
       "...                                                  ...   \n",
       "49868  Бір қызығы, мен барған сайын кісі өлтіруге қар...   \n",
       "49869  Ол әлі де қарқынды, үлкен болғанымен, саудаға ...   \n",
       "49870  Мен сақтандыру компаниясы қондырғының артын із...   \n",
       "49871  Ол қарт кісілермен қатар кездескен شئ ме? Кейб...   \n",
       "49872                                      too damn high   \n",
       "\n",
       "                                emotion  \n",
       "0                             [sadness]  \n",
       "2                             [neutral]  \n",
       "3                                [love]  \n",
       "4                             [neutral]  \n",
       "5                           [gratitude]  \n",
       "...                                 ...  \n",
       "49868       [confusion, disappointment]  \n",
       "49869                         [neutral]  \n",
       "49870            [confusion, curiosity]  \n",
       "49871  [approval, confusion, gratitude]  \n",
       "49872                         [neutral]  \n",
       "\n",
       "[49097 rows x 2 columns]"
      ]
     },
     "execution_count": 12,
     "metadata": {},
     "output_type": "execute_result"
    }
   ],
   "source": [
    "ax = ax[ax['emotion'].map(len) > 0]\n",
    "ax"
   ]
  },
  {
   "cell_type": "code",
   "execution_count": 13,
   "id": "cdd0e57d",
   "metadata": {},
   "outputs": [
    {
     "data": {
      "application/vnd.microsoft.datawrangler.viewer.v0+json": {
       "columns": [
        {
         "name": "index",
         "rawType": "int64",
         "type": "integer"
        },
        {
         "name": "text",
         "rawType": "object",
         "type": "unknown"
        },
        {
         "name": "emotion",
         "rawType": "object",
         "type": "unknown"
        }
       ],
       "ref": "4e7396d0-2243-433b-8060-8115656c61ee",
       "rows": [
        [
         "0",
         "Бұл ойын ұятты.",
         "['sadness']"
        ],
        [
         "2",
         "Егер ештеңе ештеңе болмаса, әйтеуір оларды құлай!",
         "['neutral']"
        ],
        [
         "3",
         "Мен reddit-ді жақсы білемін.",
         "['love']"
        ],
        [
         "4",
         "[NAME] олардың жақында тұрған жоқ, ол соқырқының yanında тұрды.",
         "['neutral']"
        ],
        [
         "5",
         "Бұл – өте маңызды құжат, сондықтан мұны әрі қарай жөнелтуі керек... Баярлалаа!",
         "['gratitude']"
        ],
        [
         "6",
         "Ол онша үлкен емес, бірақ ол әлі де өте танымал.",
         "['disapproval']"
        ],
        [
         "7",
         "Бұл - бос сөз. Мен супер [RELIGION] жоғарыokulға түскенім, мен тиненттік moms болып қалған 4 жылдың ішіндегі 2 әйелді xatırlayıram.",
         "['amusement']"
        ],
        [
         "8",
         "бұл - құмарлық ой.",
         "['amusement']"
        ],
        [
         "9",
         "\"Sponge Blurb Pubs Quaw Haha GURR ha AAa!\" финалы тым шынайы",
         "['amusement']"
        ],
        [
         "10",
         "Қазір солай болдым, соны ескере алсақ, мұның өзі маған нәсілдік туғызды.",
         "['neutral']"
        ],
        [
         "11",
         "Мен бұлды қолдамайтынын айттым, бірақ ол таны қате емес.",
         "['disappointment']"
        ],
        [
         "12",
         "Бірақ оның қайта оралуы керек! /с",
         "['neutral']"
        ],
        [
         "13",
         "Бұл біртүрлі нәрсе.",
         "['disappointment', 'disgust']"
        ],
        [
         "14",
         "Қырқаны баррам уу? /jk",
         "['neutral']"
        ],
        [
         "15",
         "Бұл - жақсы жаңалық. Бір күні бұл білімді қолдануға мәжбүр болады деп үміттенемін",
         "['admiration', 'gratitude']"
        ],
        [
         "16",
         "Бір кездері мен 91-шы жаңға жолмен жүре салысқанда, мен платформаны жақсы түсірсемін, себебі онда біршама жарық болған.",
         "['neutral']"
        ],
        [
         "17",
         "Олай болса, мен егер бұл кез келген әйел болса, онда сізге жақсы мүмкіндік бар деп айтуға болады lol",
         "['realization']"
        ],
        [
         "18",
         "Мен кездескен Panjabi ер кісілердің көбі.",
         "['admiration']"
        ],
        [
         "19",
         "Және оның сексуалдық қатыгездіктен есірткені жаппай ұстап қалуы үшін есірткені жаппай ұстап қалуы керек.",
         "['annoyance']"
        ],
        [
         "20",
         "Бұл видеода тіпті оның ойнаған ფეხსაცғары да көрсетілмейді...",
         "['neutral']"
        ],
        [
         "21",
         "Klemson үшін мақтаныш наалтыг қалай шектейді? Сақиналар ойналады?",
         "['confusion']"
        ],
        [
         "22",
         "«Ті өлсе де, бірақ бұл миний құрбандық»",
         "['optimism']"
        ],
        [
         "23",
         "Мен нені ұнамай қалғанын анықтауда. Баярлалаа қайтадан.",
         "['curiosity', 'gratitude']"
        ],
        [
         "24",
         "Бұл әрине r/BoneAppleTea-ға лайық.",
         "['neutral']"
        ],
        [
         "25",
         "“Жөп! Біз олардың мұның бір-бірінен да coloreds бармыз!”",
         "['excitement']"
        ],
        [
         "26",
         "Намайг еске түсіру! 3 ай",
         "['neutral']"
        ],
        [
         "27",
         "Еп, енді олай емес. Қан қышқылын жоғары ұстап тұр!",
         "['caring']"
        ],
        [
         "28",
         "Көтермелер, дүкен немесе көктем дүкен vpn. Nord жақсы",
         "['admiration']"
        ],
        [
         "29",
         "[NAME]-ға соншалықты қуана, соншалықты өкінішке қарай, ол यहाँ жоқ. Осы [NAME]-ты [NAME] емес, [NAME]-мен ішіп тұрған команданы төсөөлге. Өө.",
         "['disgust', 'joy', 'sadness']"
        ],
        [
         "30",
         "Бірақ [NAME] оны соншалық көңіл қалдырарлық деп айтып жатыр",
         "['neutral']"
        ],
        [
         "31",
         "Көп нәрсе Көп нәрсе, көмекші кеңістік",
         "['neutral']"
        ],
        [
         "32",
         "Тұмыр, қызығы, бірақ шын мәнінде жақсы емес. Ол сайып келгенде, оныңмен ұйықталуға құлықсыз қалған өлтірген қыздарды әлі күнге дейін кінәлі деп айта қойған жоқ.",
         "['disappointment', 'disgust']"
        ],
        [
         "33",
         "Мен, бәлкім, екі жүздеген мильді space saver торға салап тастадым. Ол әлі де сонда тұр.",
         "['neutral']"
        ],
        [
         "34",
         "Мен оның жағдайы жақсы екеніне сенемін, бірақ мен одан да жақсымын, себебі ол тауға ескелесіп, парашютпен айдайтын ер адамның пікірі емес.",
         "['gratitude']"
        ],
        [
         "35",
         "Жақсы! Би мұны ішіп аламын",
         "['admiration']"
        ],
        [
         "36",
         "Әсіресе оның «өз бетini кекітемін» деген видеосы салдарынан.",
         "['disapproval']"
        ],
        [
         "37",
         "Жақында үйіmə келсем, бұл лайна-лайна ұмтылы ма? Mən маған ұмтылымын.",
         "['love']"
        ],
        [
         "38",
         "Керісінше, тролльға барар. Бұл әйелге құлшыныс беру керек, ауыздықсыз сұрақ қоймау керек.",
         "['annoyance']"
        ],
        [
         "39",
         "Әсіресе онлайнда, бұлай болмауы ықтимал",
         "['annoyance']"
        ],
        [
         "40",
         "Және. Намаймның постын өзгертуге тырысып жатырм.",
         "['remorse']"
        ],
        [
         "41",
         "Оның үстіне, контентті әзірлеушілері төленетіні жоқ, сондықтан жарнамаға құлақ асқарған секундтар – тым қымбат!",
         "['confusion', 'curiosity']"
        ],
        [
         "42",
         "Өкінішке қарай, мен онда лайықты үдэшлэг өткіземін, бірақ мұрында ешқашан кеш болмағанмын.",
         "['remorse']"
        ],
        [
         "43",
         "Бұл салада бұрын-соңды болмаған ең ыңғайлы нәрсе",
         "['joy']"
        ],
        [
         "44",
         "[NAME] - күдікті болғаны туралы қандай дәлелдеме бар?",
         "['neutral']"
        ],
        [
         "45",
         "cure-all емес. Бізде олай жоқ болғандықтан, бұл келесі ең жақсы шешім емес пе?",
         "['confusion']"
        ],
        [
         "46",
         "Егер онда бір шеңбер бар болса, онда да.",
         "['approval']"
        ],
        [
         "47",
         "Егер [NAME] жылдың соңында ұқсас рөл ойнайтын болса, онда менің ойымша бұл рөлді ол жағына беру емес...әсіресе Sony",
         "['neutral']"
        ],
        [
         "48",
         "Өө, қате, бастапқы сөзі қате түсіндім",
         "['confusion', 'realization']"
        ],
        [
         "49",
         "Қайырымдылық пен күштілік таныту",
         "['joy', 'optimism']"
        ],
        [
         "50",
         "Ол ештеңемен қуыршақтай қуыршақ сияқты.",
         "['admiration']"
        ]
       ],
       "shape": {
        "columns": 2,
        "rows": 49097
       }
      },
      "text/html": [
       "<div>\n",
       "<style scoped>\n",
       "    .dataframe tbody tr th:only-of-type {\n",
       "        vertical-align: middle;\n",
       "    }\n",
       "\n",
       "    .dataframe tbody tr th {\n",
       "        vertical-align: top;\n",
       "    }\n",
       "\n",
       "    .dataframe thead th {\n",
       "        text-align: right;\n",
       "    }\n",
       "</style>\n",
       "<table border=\"1\" class=\"dataframe\">\n",
       "  <thead>\n",
       "    <tr style=\"text-align: right;\">\n",
       "      <th></th>\n",
       "      <th>text</th>\n",
       "      <th>emotion</th>\n",
       "    </tr>\n",
       "  </thead>\n",
       "  <tbody>\n",
       "    <tr>\n",
       "      <th>0</th>\n",
       "      <td>Бұл ойын ұятты.</td>\n",
       "      <td>[sadness]</td>\n",
       "    </tr>\n",
       "    <tr>\n",
       "      <th>2</th>\n",
       "      <td>Егер ештеңе ештеңе болмаса, әйтеуір оларды құлай!</td>\n",
       "      <td>[neutral]</td>\n",
       "    </tr>\n",
       "    <tr>\n",
       "      <th>3</th>\n",
       "      <td>Мен reddit-ді жақсы білемін.</td>\n",
       "      <td>[love]</td>\n",
       "    </tr>\n",
       "    <tr>\n",
       "      <th>4</th>\n",
       "      <td>[NAME] олардың жақында тұрған жоқ, ол соқырқын...</td>\n",
       "      <td>[neutral]</td>\n",
       "    </tr>\n",
       "    <tr>\n",
       "      <th>5</th>\n",
       "      <td>Бұл – өте маңызды құжат, сондықтан мұны әрі қа...</td>\n",
       "      <td>[gratitude]</td>\n",
       "    </tr>\n",
       "    <tr>\n",
       "      <th>...</th>\n",
       "      <td>...</td>\n",
       "      <td>...</td>\n",
       "    </tr>\n",
       "    <tr>\n",
       "      <th>49868</th>\n",
       "      <td>Бір қызығы, мен барған сайын кісі өлтіруге қар...</td>\n",
       "      <td>[confusion, disappointment]</td>\n",
       "    </tr>\n",
       "    <tr>\n",
       "      <th>49869</th>\n",
       "      <td>Ол әлі де қарқынды, үлкен болғанымен, саудаға ...</td>\n",
       "      <td>[neutral]</td>\n",
       "    </tr>\n",
       "    <tr>\n",
       "      <th>49870</th>\n",
       "      <td>Мен сақтандыру компаниясы қондырғының артын із...</td>\n",
       "      <td>[confusion, curiosity]</td>\n",
       "    </tr>\n",
       "    <tr>\n",
       "      <th>49871</th>\n",
       "      <td>Ол қарт кісілермен қатар кездескен شئ ме? Кейб...</td>\n",
       "      <td>[approval, confusion, gratitude]</td>\n",
       "    </tr>\n",
       "    <tr>\n",
       "      <th>49872</th>\n",
       "      <td>too damn high</td>\n",
       "      <td>[neutral]</td>\n",
       "    </tr>\n",
       "  </tbody>\n",
       "</table>\n",
       "<p>49097 rows × 2 columns</p>\n",
       "</div>"
      ],
      "text/plain": [
       "                                                    text  \\\n",
       "0                                        Бұл ойын ұятты.   \n",
       "2      Егер ештеңе ештеңе болмаса, әйтеуір оларды құлай!   \n",
       "3                           Мен reddit-ді жақсы білемін.   \n",
       "4      [NAME] олардың жақында тұрған жоқ, ол соқырқын...   \n",
       "5      Бұл – өте маңызды құжат, сондықтан мұны әрі қа...   \n",
       "...                                                  ...   \n",
       "49868  Бір қызығы, мен барған сайын кісі өлтіруге қар...   \n",
       "49869  Ол әлі де қарқынды, үлкен болғанымен, саудаға ...   \n",
       "49870  Мен сақтандыру компаниясы қондырғының артын із...   \n",
       "49871  Ол қарт кісілермен қатар кездескен شئ ме? Кейб...   \n",
       "49872                                      too damn high   \n",
       "\n",
       "                                emotion  \n",
       "0                             [sadness]  \n",
       "2                             [neutral]  \n",
       "3                                [love]  \n",
       "4                             [neutral]  \n",
       "5                           [gratitude]  \n",
       "...                                 ...  \n",
       "49868       [confusion, disappointment]  \n",
       "49869                         [neutral]  \n",
       "49870            [confusion, curiosity]  \n",
       "49871  [approval, confusion, gratitude]  \n",
       "49872                         [neutral]  \n",
       "\n",
       "[49097 rows x 2 columns]"
      ]
     },
     "execution_count": 13,
     "metadata": {},
     "output_type": "execute_result"
    }
   ],
   "source": [
    "ax = ax.rename(columns={'translated_kk': 'text'})\n",
    "ax"
   ]
  },
  {
   "cell_type": "code",
   "execution_count": 14,
   "id": "3c99f2d8",
   "metadata": {},
   "outputs": [
    {
     "data": {
      "application/vnd.microsoft.datawrangler.viewer.v0+json": {
       "columns": [
        {
         "name": "index",
         "rawType": "int64",
         "type": "integer"
        },
        {
         "name": "text",
         "rawType": "object",
         "type": "string"
        },
        {
         "name": "emotion",
         "rawType": "object",
         "type": "unknown"
        }
       ],
       "ref": "ad8e806f-009e-4c7e-bb2d-90e00f00409b",
       "rows": [
        [
         "0",
         "Ойын кезінде ұтылып бара жатқанда, ол себепсізден себепсіз агриться бастады.",
         "['anger', 'annoyance', 'disapproval']"
        ],
        [
         "1",
         "Оның әрбір сөзіме агриться болғанына таң қалдым, жай ғана пікірімді айтқым келген.",
         "['surprise', 'confusion', 'annoyance']"
        ],
        [
         "2",
         "\"Болмашы нәрсеге агриться болмай, сабыр сақта,\" – деп досы ақыл айтты.",
         "['caring', 'disapproval', 'neutral']"
        ],
        [
         "3",
         "Желідегі пікірталаста қарсыласының дөрекі сөздеріне ол да агриться болып жауап берді.",
         "['anger', 'annoyance']"
        ],
        [
         "4",
         "Бастығының орынсыз сынына агриться болса да, сыртқа білдірмеуге тырысты.",
         "['anger', 'nervousness', 'disapproval']"
        ],
        [
         "5",
         "Кептелісте ұзақ тұрған жүргізушілер бір-біріне агриться болып, сигнал баса бастады.",
         "['annoyance', 'anger']"
        ],
        [
         "6",
         "\"Неге сонша агриться боласың? Бәрін тыныштықпен шешуге болады ғой,\" – деді ол.",
         "['confusion', 'disapproval', 'caring']"
        ],
        [
         "7",
         "Ол әдетте өте сабырлы, бірақ әділетсіздік көргенде қатты агриться болады.",
         "['anger', 'surprise', 'disapproval']"
        ],
        [
         "8",
         "Балалардың шулағанына көршісі агриться болып, есік қақты.",
         "['annoyance', 'anger']"
        ],
        [
         "9",
         "Ол өзінің тез агриться болатын мінезін білгендіктен, даулы жағдайлардан аулақ жүруге тырысады.",
         "['realization', 'nervousness', 'neutral']"
        ],
        [
         "10",
         "Жаңа телефон сатып алған соң, ол достарына көрсету үшін анбакинг видеосын түсірді.",
         "['excitement', 'joy', 'pride']"
        ],
        [
         "11",
         "Танымал блогердің кезекті анбакинг видеосы бірнеше сағатта миллиондаған қаралым жинады.",
         "['admiration', 'excitement', 'neutral']"
        ],
        [
         "12",
         "Балаларға арналған ойыншықтардың анбакингін көру қазіргі заманның трендіне айналды.",
         "['amusement', 'curiosity', 'neutral']"
        ],
        [
         "13",
         "Косметикалық өнімдердің анбакингін жасап, ол өзінің пікірлерімен бөліседі.",
         "['joy', 'excitement', 'caring']"
        ],
        [
         "14",
         "\"Бұл гаджеттің анбакингін көргенде, оны бірден сатып алғым келіп кетті,\" – деді ол.",
         "['desire', 'excitement', 'admiration']"
        ],
        [
         "15",
         "Анбакинг видеолары арқылы тұтынушылар тауар туралы толық ақпарат ала алады.",
         "['approval', 'realization', 'neutral']"
        ],
        [
         "16",
         "Ол өзінің бірінші анбакинг видеосын түсіргенде қатты қобалжыды, бірақ нәтижесі жақсы шықты.",
         "['nervousness', 'excitement', 'pride', 'relief']"
        ],
        [
         "17",
         "Кейбір компаниялар өз өнімдерін таныту үшін блогерлерге анбакинг жасауға тапсырыс береді.",
         "['neutral', 'realization']"
        ],
        [
         "18",
         "\"Анбакинг жасағанда, тауардың жақсы жақтарымен қатар, кемшіліктерін де айту керек,\" – деп есептейді ол.",
         "['approval', 'neutral']"
        ],
        [
         "19",
         "Сыйлықтың анбакингін жасап жатқанда, оның ішінен күтпеген тосын сый шығып, қатты таң қалды.",
         "['surprise', 'excitement', 'joy']"
        ],
        [
         "20",
         "Концертке билет ұтып алдым, просто ауф!",
         "['excitement', 'joy']"
        ],
        [
         "21",
         "Бүгінгі күн ауф өтті, көп нәрсе істеп үлгердім.",
         "['joy', 'pride', 'relief']"
        ],
        [
         "22",
         "Жаңа телефонымның камерасы – ауф, суреттер керемет шығады!",
         "['admiration', 'joy', 'approval']"
        ],
        [
         "23",
         "Оның маған жасаған сыйлығы ауф болды, күтпеген едім.",
         "['surprise', 'joy', 'gratitude']"
        ],
        [
         "24",
         "Тауға шығып, мынандай көріністі көргенде, ауф демеске шараң жоқ!",
         "['admiration', 'joy', 'excitement']"
        ],
        [
         "25",
         "Сен бүгін кешке киген көйлегіңмен ат екенсің!",
         "['admiration', 'approval']"
        ],
        [
         "26",
         "Сахнаға шыққанда, ол жігіт ат екен, бәрі соған қарады.",
         "['admiration', 'surprise']"
        ],
        [
         "27",
         "Фотодағы модель қыз расмен де ат екен, көз тоймайды.",
         "['admiration', 'desire']"
        ],
        [
         "28",
         "Жаңа көлігіңнің дизайны ат екен, қатты ұнады!",
         "['admiration', 'joy', 'approval']"
        ],
        [
         "29",
         "Ол өзінің өнерімен ғана емес, сырт келбетімен де ат екенін дәлелдеді.",
         "['admiration', 'pride']"
        ],
        [
         "30",
         "Корей дорамасын көріп отырып, басты кейіпкерлердің 'аннёң' деп амандасқанын жиі естимін.",
         "['amusement', 'neutral']"
        ],
        [
         "31",
         "Интернетте танысқан корей досыма бірінші болып 'аннёң' деп жаздым.",
         "['excitement', 'nervousness', 'curiosity']"
        ],
        [
         "32",
         "К-поп фанаттары кездескенде бір-біріне 'аннёң' деп жымияды.",
         "['joy', 'caring']"
        ],
        [
         "33",
         "Баламның корей тілін үйреніп, маған 'аннёң, мама!' дегеніне сүйсіндім.",
         "['joy', 'pride', 'love']"
        ],
        [
         "34",
         "Туристерге арналған сөздіктен 'аннёң' сөзінің 'сәлем' дегенді білдіретінін оқыдым.",
         "['realization', 'neutral']"
        ],
        [
         "35",
         "Менің аташкам – нағыз батыр, оның әңгімелерін тыңдағанды жақсы көремін.",
         "['admiration', 'love', 'pride']"
        ],
        [
         "36",
         "\"Аташка, сізге көмектесейін бе?\" – деді немересі.",
         "['caring', 'love']"
        ],
        [
         "37",
         "Демалыс сайын аташкамның үйіне барып, онымен шахмат ойнаймыз.",
         "['joy', 'caring']"
        ],
        [
         "38",
         "Аташкам маған әдемі ертегі айтып беріп, тәтті ұйқыға батырды.",
         "['love', 'caring', 'joy']"
        ],
        [
         "39",
         "Көршінің баласы атасын 'аташка' деп еркелетеді екен, сондай сүйкімді.",
         "['amusement', 'caring', 'approval']"
        ],
        [
         "40",
         "Ажекамның пісірген бауырсақтарының дәмі ерекше, сағынып кеттім.",
         "['love', 'caring', 'joy']"
        ],
        [
         "41",
         "Ауылға барғанда, ажекам бізді құшақ жая қарсы алады.",
         "['love', 'joy', 'caring', 'excitement']"
        ],
        [
         "42",
         "\"Ажека, сізге базардан не әкеліп берейін?\"",
         "['caring', 'love']"
        ],
        [
         "43",
         "Ажекамның айтқан әрбір ақылы өмірлік сабақ болды.",
         "['admiration', 'gratitude', 'love']"
        ],
        [
         "44",
         "Суреттегі жылы күлімсіреген ажекамды көргенде, жүрегім елжіреп кетті.",
         "['love', 'caring', 'joy']"
        ],
        [
         "45",
         "Досым жаңа ава қойыпты, бірден танымай қалдым.",
         "['surprise', 'curiosity', 'neutral']"
        ],
        [
         "46",
         "Ойын профиліме қандай ава қойсам екен деп ойланып отырмын.",
         "['confusion', 'curiosity', 'neutral']"
        ],
        [
         "47",
         "Оның авасында мысығының суреті тұр екен, сондай сүйкімді.",
         "['amusement', 'approval', 'joy']"
        ],
        [
         "48",
         "Желідегі танымалдығың үшін аванның да әдемі болғаны маңызды дейді.",
         "['realization', 'neutral']"
        ],
        [
         "49",
         "Ескі авамды көріп, сол кездерді есіме алып, күліп алдым.",
         "['amusement', 'joy', 'nostalgia']"
        ]
       ],
       "shape": {
        "columns": 2,
        "rows": 2020
       }
      },
      "text/html": [
       "<div>\n",
       "<style scoped>\n",
       "    .dataframe tbody tr th:only-of-type {\n",
       "        vertical-align: middle;\n",
       "    }\n",
       "\n",
       "    .dataframe tbody tr th {\n",
       "        vertical-align: top;\n",
       "    }\n",
       "\n",
       "    .dataframe thead th {\n",
       "        text-align: right;\n",
       "    }\n",
       "</style>\n",
       "<table border=\"1\" class=\"dataframe\">\n",
       "  <thead>\n",
       "    <tr style=\"text-align: right;\">\n",
       "      <th></th>\n",
       "      <th>text</th>\n",
       "      <th>emotion</th>\n",
       "    </tr>\n",
       "  </thead>\n",
       "  <tbody>\n",
       "    <tr>\n",
       "      <th>0</th>\n",
       "      <td>Ойын кезінде ұтылып бара жатқанда, ол себепсіз...</td>\n",
       "      <td>[anger, annoyance, disapproval]</td>\n",
       "    </tr>\n",
       "    <tr>\n",
       "      <th>1</th>\n",
       "      <td>Оның әрбір сөзіме агриться болғанына таң қалды...</td>\n",
       "      <td>[surprise, confusion, annoyance]</td>\n",
       "    </tr>\n",
       "    <tr>\n",
       "      <th>2</th>\n",
       "      <td>\"Болмашы нәрсеге агриться болмай, сабыр сақта,...</td>\n",
       "      <td>[caring, disapproval, neutral]</td>\n",
       "    </tr>\n",
       "    <tr>\n",
       "      <th>3</th>\n",
       "      <td>Желідегі пікірталаста қарсыласының дөрекі сөзд...</td>\n",
       "      <td>[anger, annoyance]</td>\n",
       "    </tr>\n",
       "    <tr>\n",
       "      <th>4</th>\n",
       "      <td>Бастығының орынсыз сынына агриться болса да, с...</td>\n",
       "      <td>[anger, nervousness, disapproval]</td>\n",
       "    </tr>\n",
       "    <tr>\n",
       "      <th>...</th>\n",
       "      <td>...</td>\n",
       "      <td>...</td>\n",
       "    </tr>\n",
       "    <tr>\n",
       "      <th>2015</th>\n",
       "      <td>\"Ол өте сезімтал, кішкене сынға да көңілі түсі...</td>\n",
       "      <td>[sadness, concern, disapproval (if excessive)]</td>\n",
       "    </tr>\n",
       "    <tr>\n",
       "      <th>2016</th>\n",
       "      <td>\"Кейбір жасөспірімдер эмо стилін ұстанып, ерек...</td>\n",
       "      <td>[neutral, curiosity, amusement]</td>\n",
       "    </tr>\n",
       "    <tr>\n",
       "      <th>2017</th>\n",
       "      <td>\"Эмо болу – бұл тек сыртқы келбет емес, соныме...</td>\n",
       "      <td>[realization, neutral]</td>\n",
       "    </tr>\n",
       "    <tr>\n",
       "      <th>2018</th>\n",
       "      <td>\"Сен неге сонша эмо болып кеткенсің? Бәрі жақс...</td>\n",
       "      <td>[caring, concern, optimism]</td>\n",
       "    </tr>\n",
       "    <tr>\n",
       "      <th>2019</th>\n",
       "      <td>\"Оның эмо әндері көптеген жастардың жүрегінен ...</td>\n",
       "      <td>[admiration, sadness, love]</td>\n",
       "    </tr>\n",
       "  </tbody>\n",
       "</table>\n",
       "<p>2020 rows × 2 columns</p>\n",
       "</div>"
      ],
      "text/plain": [
       "                                                   text  \\\n",
       "0     Ойын кезінде ұтылып бара жатқанда, ол себепсіз...   \n",
       "1     Оның әрбір сөзіме агриться болғанына таң қалды...   \n",
       "2     \"Болмашы нәрсеге агриться болмай, сабыр сақта,...   \n",
       "3     Желідегі пікірталаста қарсыласының дөрекі сөзд...   \n",
       "4     Бастығының орынсыз сынына агриться болса да, с...   \n",
       "...                                                 ...   \n",
       "2015  \"Ол өте сезімтал, кішкене сынға да көңілі түсі...   \n",
       "2016  \"Кейбір жасөспірімдер эмо стилін ұстанып, ерек...   \n",
       "2017  \"Эмо болу – бұл тек сыртқы келбет емес, соныме...   \n",
       "2018  \"Сен неге сонша эмо болып кеткенсің? Бәрі жақс...   \n",
       "2019  \"Оның эмо әндері көптеген жастардың жүрегінен ...   \n",
       "\n",
       "                                             emotion  \n",
       "0                    [anger, annoyance, disapproval]  \n",
       "1                   [surprise, confusion, annoyance]  \n",
       "2                     [caring, disapproval, neutral]  \n",
       "3                                 [anger, annoyance]  \n",
       "4                  [anger, nervousness, disapproval]  \n",
       "...                                              ...  \n",
       "2015  [sadness, concern, disapproval (if excessive)]  \n",
       "2016                 [neutral, curiosity, amusement]  \n",
       "2017                          [realization, neutral]  \n",
       "2018                     [caring, concern, optimism]  \n",
       "2019                     [admiration, sadness, love]  \n",
       "\n",
       "[2020 rows x 2 columns]"
      ]
     },
     "execution_count": 14,
     "metadata": {},
     "output_type": "execute_result"
    }
   ],
   "source": [
    "with open('datasets/slangs.txt', 'r', encoding='utf-8') as file:\n",
    "    lines = file.readlines()\n",
    "\n",
    "data = []\n",
    "for line in lines:\n",
    "    if '\\t' in line:\n",
    "        text, emotions = line.strip().split('\\t')\n",
    "        emotion_list = [e.strip() for e in emotions.split(',')]\n",
    "        data.append({\"text\": text.strip(), \"emotion\": emotion_list})\n",
    "\n",
    "slang = pd.DataFrame(data)\n",
    "\n",
    "slang"
   ]
  },
  {
   "cell_type": "code",
   "execution_count": 15,
   "id": "931b1230",
   "metadata": {},
   "outputs": [],
   "source": [
    "slang = resample(slang,\n",
    "                 replace=True,\n",
    "                 n_samples=15000,\n",
    "                 random_state=42)\n"
   ]
  },
  {
   "cell_type": "code",
   "execution_count": 16,
   "id": "94110be6",
   "metadata": {},
   "outputs": [
    {
     "data": {
      "application/vnd.microsoft.datawrangler.viewer.v0+json": {
       "columns": [
        {
         "name": "index",
         "rawType": "int64",
         "type": "integer"
        },
        {
         "name": "text",
         "rawType": "object",
         "type": "string"
        },
        {
         "name": "emotion",
         "rawType": "object",
         "type": "unknown"
        }
       ],
       "ref": "945854eb-ea12-4eb3-82c1-bffed2f38756",
       "rows": [
        [
         "1126",
         "\"Сен қалайсың?\" – \"Нормально, өзің ше?\"",
         "['neutral', 'caring']"
        ],
        [
         "1459",
         "Ол бір мәселені сағызша шайнап, екі сағат бойы айтып отырды.",
         "['annoyance', 'disapproval', 'disgust']"
        ],
        [
         "860",
         "\"Сен неге сонша құлақсың? Саған айтқанның бәріне сене бересің бе?\"",
         "['annoyance', 'disapproval']"
        ],
        [
         "1294",
         "\"Пожалуйста, маған осы мәселені шешуге көмектесіп жіберші.\"",
         "['desire', 'nervousness', 'caring']"
        ],
        [
         "1130",
         "\"Ноутымның заряды бітіп қалды, қазір қосамын.\"",
         "['annoyance', 'neutral']"
        ],
        [
         "1095",
         "\"Сен неге сонша мяусың? Бір шешім қабылдасайшы тезірек.\"",
         "['annoyance', 'disapproval', 'desire']"
        ],
        [
         "1724",
         "Ол филфакта оқып, кейін танымал тіл маманы болып шықты.",
         "['pride', 'admiration', 'approval']"
        ],
        [
         "1044",
         "\"Оның басында не болып жатқанын түсінбеймін, миына таракан кіріп кеткен сияқты.\"",
         "['confusion', 'amusement', 'concern']"
        ],
        [
         "1638",
         "\"Сен онымен точно кездестің бе, әлде шатастырып тұрсың ба?\"",
         "['confusion', 'curiosity', 'suspicion']"
        ],
        [
         "121",
         "\"Академ алу – оқудан қашу емес, өзіңе уақыт беріп, жаңа күшпен оралу мүмкіндігі,\" – деді психолог.",
         "['realization', 'optimism', 'approval']"
        ],
        [
         "466",
         "\"Бүгін көп жұмыс істедім, еще үйге тапсырма да берді.\"",
         "['annoyance', 'sadness', 'neutral']"
        ],
        [
         "1238",
         "\"Кейде ащы болса да, шындықты айтқан өтті болады.\"",
         "['realization', 'approval']"
        ],
        [
         "330",
         "\"Тыныш бошы, балам ұйықтап жатыр,\" – деп сыбырлады анасы.",
         "['caring', 'annoyance', 'neutral']"
        ],
        [
         "1482",
         "\"Сені ренжітіп алсам, сорян, мен олай ойламап едім.\"",
         "['remorse', 'caring', 'sadness']"
        ],
        [
         "87",
         "Достарыммен жиі аниме фестивальдеріне барып, косплей жасаймыз.",
         "['excitement', 'joy', 'caring']"
        ],
        [
         "1396",
         "\"Егер сен өз позицияңды плотно сөйлеп қорғай алмасаң, ешкім саған сенбейді.\"",
         "['disapproval', 'realization']"
        ],
        [
         "1123",
         "\"Неужели демалыс аяқталды? Уақыт зымырап өтіп кетіпті.\"",
         "['disappointment', 'sadness', 'surprise']"
        ],
        [
         "871",
         "Ол ата-анасына сабаққа бардым деп құлаққа лапша іліп, өзі достарымен қыдырып кетті.",
         "['disapproval', 'deceit']"
        ],
        [
         "1687",
         "\"Жол апатының салдары ужас екен, бірнеше адам зардап шегіпті.\"",
         "['sadness', 'fear', 'grief', 'disgust']"
        ],
        [
         "130",
         "Бұрынғы жанкүйері енді оның ең белсенді антифанатына айналыпты.",
         "['surprise', 'disappointment', 'sadness']"
        ],
        [
         "1685",
         "\"Мына фильмнің сюжеті сондай ужас, түнде ұйықтай алмайтын болдым.\"",
         "['fear', 'disgust', 'annoyance']"
        ],
        [
         "1332",
         "\"Перваш кезімде көп қателіктер жібердім, бірақ содан сабақ алдым.\"",
         "['realization', 'remorse', 'nostalgia']"
        ],
        [
         "769",
         "\"Кстати, сенің туған күнің жақындап қалды ғой, не сыйлаймыз?\"",
         "['excitement', 'caring', 'curiosity']"
        ],
        [
         "343",
         "\"Бей\" сөзі шығыс елдерінде құрметті ер адамдарға қатысты қолданылады.",
         "['realization', 'neutral']"
        ],
        [
         "1515",
         "Ол жаңа сотка сатып алып, оған әдемі қап пен қорғаныш шыны жабыстырды.",
         "['joy', 'excitement', 'pride']"
        ],
        [
         "1437",
         "\"Оның әні рекке шыққаннан кейін, ол бірден танымал болып кетті.\"",
         "['surprise', 'excitement', 'admiration']"
        ],
        [
         "805",
         "\"Сен оған шындықты айтып, орнына қадап тастадың, дұрыс істедің!\"",
         "['approval', 'admiration', 'pride']"
        ],
        [
         "385",
         "\"В общем, демалыс жақсы өтті, біраз тынығып қалдық.\"",
         "['joy', 'relief', 'neutral']"
        ],
        [
         "1215",
         "\"Оппа, сіз маған үлгісіз, сіздей болғым келеді!\"",
         "['admiration', 'desire', 'love']"
        ],
        [
         "955",
         "Ол танымайтын адамдардан келген ЛС-тарға жауап бермейді.",
         "['disapproval', 'neutral']"
        ],
        [
         "276",
         "Үнемі кітап оқып, қосымша сабақтарға баратындықтан, оны сыныптастары ботан деп атайтын.",
         "['neutral', 'admiration', 'disapproval (from bullies)']"
        ],
        [
         "1184",
         "Қараңғы көшеде жалғыз келе жатқанда, артынан біреу аңдығандай болып, очкосы ойнады.",
         "['fear', 'nervousness']"
        ],
        [
         "459",
         "\"Если ертең күн жақсы болса, тауға шығамыз.\"",
         "['optimism', 'desire', 'neutral']"
        ],
        [
         "1337",
         "\"Демалыс күндеріміз пуки-пуки өтті, көптен бер бұлай демалмап едік.\"",
         "['joy', 'relief', 'excitement']"
        ],
        [
         "21",
         "Бүгінгі күн ауф өтті, көп нәрсе істеп үлгердім.",
         "['joy', 'pride', 'relief']"
        ],
        [
         "252",
         "\"Мұндай қауіпті іске бармас бұрын, басың жасай ма, қаға ма деп ойландың ба?\"",
         "['fear', 'disapproval', 'annoyance']"
        ],
        [
         "747",
         "\"Қазіргі заманда \"колхозник\" деген түсінік ескірген, бастысы – адамның ішкі мәдениеті.\"",
         "['realization', 'approval']"
        ],
        [
         "856",
         "Ол емтиханда мұғалімді сөзге айналдырып, өзіне жақсы бағаны қатырып кетті.",
         "['amusement', 'admiration', 'disapproval']"
        ],
        [
         "1584",
         "\"Кеш басталды, бізге тезірек тартыл, сені күтіп отырмыз!\"",
         "['excitement', 'desire', 'annoyance']"
        ],
        [
         "474",
         "\"Ёё моё, мен тағы да ұтылып қалдым ба?\"",
         "['disappointment', 'annoyance', 'amusement']"
        ],
        [
         "1082",
         "\"Менің телефоным мыняқта, үстелдің үстінде жатыр екен.\"",
         "['relief', 'realization', 'neutral']"
        ],
        [
         "510",
         "\"Неге сонша жыртылып отырсың? Сәл қарапайым болсаңшы.\"",
         "['annoyance', 'disapproval']"
        ],
        [
         "1705",
         "\"Сен неге сонша көп ұйықтайсың? Күні бойы ұйқыны теуіп жатасың.\"",
         "['annoyance', 'disapproval']"
        ],
        [
         "1499",
         "\"Сенің жаңа көйлегің супер екен, саған өте жарасып тұр!\"",
         "['admiration', 'joy', 'approval']"
        ],
        [
         "699",
         "\"Конечно, мен саған көмектесемін, еш уайымдама.\"",
         "['approval', 'caring', 'optimism']"
        ],
        [
         "975",
         "\"Ол ешқандай қиындық көрмей, ата-анасының арқасында лафа өмір сүріп жатыр.\"",
         "['disapproval', 'envy', 'neutral']"
        ],
        [
         "1806",
         "\"Мен бұл жарыста жеңбесем де, хоть жақсы тәжірибе жинадым,\" – деді ол.",
         "['optimism', 'pride', 'realization']"
        ],
        [
         "189",
         "Бастығының орынсыз сынына агриться болса да, сыртқа білдірмеуге тырысты.",
         "['anger', 'nervousness', 'disapproval']"
        ],
        [
         "957",
         "\"Желідегі топтың ережесі бойынша, жеке басқа қатысты сұрақтарды ЛС-та талқылау керек.\"",
         "['approval', 'neutral']"
        ],
        [
         "686",
         "Ол өзінің құлағы үлкен болғанына ешқашан ұялып, \"кула\" деген сөзге мән бермейтін.",
         "['pride', 'approval', 'neutral']"
        ]
       ],
       "shape": {
        "columns": 2,
        "rows": 15000
       }
      },
      "text/html": [
       "<div>\n",
       "<style scoped>\n",
       "    .dataframe tbody tr th:only-of-type {\n",
       "        vertical-align: middle;\n",
       "    }\n",
       "\n",
       "    .dataframe tbody tr th {\n",
       "        vertical-align: top;\n",
       "    }\n",
       "\n",
       "    .dataframe thead th {\n",
       "        text-align: right;\n",
       "    }\n",
       "</style>\n",
       "<table border=\"1\" class=\"dataframe\">\n",
       "  <thead>\n",
       "    <tr style=\"text-align: right;\">\n",
       "      <th></th>\n",
       "      <th>text</th>\n",
       "      <th>emotion</th>\n",
       "    </tr>\n",
       "  </thead>\n",
       "  <tbody>\n",
       "    <tr>\n",
       "      <th>1126</th>\n",
       "      <td>\"Сен қалайсың?\" – \"Нормально, өзің ше?\"</td>\n",
       "      <td>[neutral, caring]</td>\n",
       "    </tr>\n",
       "    <tr>\n",
       "      <th>1459</th>\n",
       "      <td>Ол бір мәселені сағызша шайнап, екі сағат бойы...</td>\n",
       "      <td>[annoyance, disapproval, disgust]</td>\n",
       "    </tr>\n",
       "    <tr>\n",
       "      <th>860</th>\n",
       "      <td>\"Сен неге сонша құлақсың? Саған айтқанның бәрі...</td>\n",
       "      <td>[annoyance, disapproval]</td>\n",
       "    </tr>\n",
       "    <tr>\n",
       "      <th>1294</th>\n",
       "      <td>\"Пожалуйста, маған осы мәселені шешуге көмекте...</td>\n",
       "      <td>[desire, nervousness, caring]</td>\n",
       "    </tr>\n",
       "    <tr>\n",
       "      <th>1130</th>\n",
       "      <td>\"Ноутымның заряды бітіп қалды, қазір қосамын.\"</td>\n",
       "      <td>[annoyance, neutral]</td>\n",
       "    </tr>\n",
       "    <tr>\n",
       "      <th>...</th>\n",
       "      <td>...</td>\n",
       "      <td>...</td>\n",
       "    </tr>\n",
       "    <tr>\n",
       "      <th>1118</th>\n",
       "      <td>\"Сен онымен на хабаре болсаң, менің өтінішімді...</td>\n",
       "      <td>[desire, nervousness, caring]</td>\n",
       "    </tr>\n",
       "    <tr>\n",
       "      <th>1568</th>\n",
       "      <td>\"Оның \"танкасы бар\" болса да, заң алдында бәрі...</td>\n",
       "      <td>[approval, determination, anger]</td>\n",
       "    </tr>\n",
       "    <tr>\n",
       "      <th>622</th>\n",
       "      <td>\"Ол шындықты айтып тұр ма, или өтірік пе, түсі...</td>\n",
       "      <td>[confusion, nervousness, curiosity]</td>\n",
       "    </tr>\n",
       "    <tr>\n",
       "      <th>1169</th>\n",
       "      <td>Университетте оқып жүргенде, біз общягада тұрд...</td>\n",
       "      <td>[joy, nostalgia, caring]</td>\n",
       "    </tr>\n",
       "    <tr>\n",
       "      <th>892</th>\n",
       "      <td>\"Қораға кіргеніңді түсінген кезде кеш болады, ...</td>\n",
       "      <td>[realization, caring, disapproval]</td>\n",
       "    </tr>\n",
       "  </tbody>\n",
       "</table>\n",
       "<p>15000 rows × 2 columns</p>\n",
       "</div>"
      ],
      "text/plain": [
       "                                                   text  \\\n",
       "1126            \"Сен қалайсың?\" – \"Нормально, өзің ше?\"   \n",
       "1459  Ол бір мәселені сағызша шайнап, екі сағат бойы...   \n",
       "860   \"Сен неге сонша құлақсың? Саған айтқанның бәрі...   \n",
       "1294  \"Пожалуйста, маған осы мәселені шешуге көмекте...   \n",
       "1130     \"Ноутымның заряды бітіп қалды, қазір қосамын.\"   \n",
       "...                                                 ...   \n",
       "1118  \"Сен онымен на хабаре болсаң, менің өтінішімді...   \n",
       "1568  \"Оның \"танкасы бар\" болса да, заң алдында бәрі...   \n",
       "622   \"Ол шындықты айтып тұр ма, или өтірік пе, түсі...   \n",
       "1169  Университетте оқып жүргенде, біз общягада тұрд...   \n",
       "892   \"Қораға кіргеніңді түсінген кезде кеш болады, ...   \n",
       "\n",
       "                                  emotion  \n",
       "1126                    [neutral, caring]  \n",
       "1459    [annoyance, disapproval, disgust]  \n",
       "860              [annoyance, disapproval]  \n",
       "1294        [desire, nervousness, caring]  \n",
       "1130                 [annoyance, neutral]  \n",
       "...                                   ...  \n",
       "1118        [desire, nervousness, caring]  \n",
       "1568     [approval, determination, anger]  \n",
       "622   [confusion, nervousness, curiosity]  \n",
       "1169             [joy, nostalgia, caring]  \n",
       "892    [realization, caring, disapproval]  \n",
       "\n",
       "[15000 rows x 2 columns]"
      ]
     },
     "execution_count": 16,
     "metadata": {},
     "output_type": "execute_result"
    }
   ],
   "source": [
    "slang"
   ]
  },
  {
   "cell_type": "code",
   "execution_count": 20,
   "id": "b75c78f2",
   "metadata": {},
   "outputs": [
    {
     "data": {
      "application/vnd.microsoft.datawrangler.viewer.v0+json": {
       "columns": [
        {
         "name": "index",
         "rawType": "int64",
         "type": "integer"
        },
        {
         "name": "text",
         "rawType": "object",
         "type": "unknown"
        },
        {
         "name": "emotion",
         "rawType": "object",
         "type": "unknown"
        }
       ],
       "ref": "c153e185-4bad-47d9-b1c9-20516d285214",
       "rows": [
        [
         "0",
         "Бұл ойын ұятты.",
         "['sadness']"
        ],
        [
         "1",
         "Егер ештеңе ештеңе болмаса, әйтеуір оларды құлай!",
         "['neutral']"
        ],
        [
         "2",
         "Мен reddit-ді жақсы білемін.",
         "['love']"
        ],
        [
         "3",
         "[NAME] олардың жақында тұрған жоқ, ол соқырқының yanında тұрды.",
         "['neutral']"
        ],
        [
         "4",
         "Бұл – өте маңызды құжат, сондықтан мұны әрі қарай жөнелтуі керек... Баярлалаа!",
         "['gratitude']"
        ],
        [
         "5",
         "Ол онша үлкен емес, бірақ ол әлі де өте танымал.",
         "['disapproval']"
        ],
        [
         "6",
         "Бұл - бос сөз. Мен супер [RELIGION] жоғарыokulға түскенім, мен тиненттік moms болып қалған 4 жылдың ішіндегі 2 әйелді xatırlayıram.",
         "['amusement']"
        ],
        [
         "7",
         "бұл - құмарлық ой.",
         "['amusement']"
        ],
        [
         "8",
         "\"Sponge Blurb Pubs Quaw Haha GURR ha AAa!\" финалы тым шынайы",
         "['amusement']"
        ],
        [
         "9",
         "Қазір солай болдым, соны ескере алсақ, мұның өзі маған нәсілдік туғызды.",
         "['neutral']"
        ],
        [
         "10",
         "Мен бұлды қолдамайтынын айттым, бірақ ол таны қате емес.",
         "['disappointment']"
        ],
        [
         "11",
         "Бірақ оның қайта оралуы керек! /с",
         "['neutral']"
        ],
        [
         "12",
         "Бұл біртүрлі нәрсе.",
         "['disappointment', 'disgust']"
        ],
        [
         "13",
         "Қырқаны баррам уу? /jk",
         "['neutral']"
        ],
        [
         "14",
         "Бұл - жақсы жаңалық. Бір күні бұл білімді қолдануға мәжбүр болады деп үміттенемін",
         "['admiration', 'gratitude']"
        ],
        [
         "15",
         "Бір кездері мен 91-шы жаңға жолмен жүре салысқанда, мен платформаны жақсы түсірсемін, себебі онда біршама жарық болған.",
         "['neutral']"
        ],
        [
         "16",
         "Олай болса, мен егер бұл кез келген әйел болса, онда сізге жақсы мүмкіндік бар деп айтуға болады lol",
         "['realization']"
        ],
        [
         "17",
         "Мен кездескен Panjabi ер кісілердің көбі.",
         "['admiration']"
        ],
        [
         "18",
         "Және оның сексуалдық қатыгездіктен есірткені жаппай ұстап қалуы үшін есірткені жаппай ұстап қалуы керек.",
         "['annoyance']"
        ],
        [
         "19",
         "Бұл видеода тіпті оның ойнаған ფეხსაცғары да көрсетілмейді...",
         "['neutral']"
        ],
        [
         "20",
         "Klemson үшін мақтаныш наалтыг қалай шектейді? Сақиналар ойналады?",
         "['confusion']"
        ],
        [
         "21",
         "«Ті өлсе де, бірақ бұл миний құрбандық»",
         "['optimism']"
        ],
        [
         "22",
         "Мен нені ұнамай қалғанын анықтауда. Баярлалаа қайтадан.",
         "['curiosity', 'gratitude']"
        ],
        [
         "23",
         "Бұл әрине r/BoneAppleTea-ға лайық.",
         "['neutral']"
        ],
        [
         "24",
         "“Жөп! Біз олардың мұның бір-бірінен да coloreds бармыз!”",
         "['excitement']"
        ],
        [
         "25",
         "Намайг еске түсіру! 3 ай",
         "['neutral']"
        ],
        [
         "26",
         "Еп, енді олай емес. Қан қышқылын жоғары ұстап тұр!",
         "['caring']"
        ],
        [
         "27",
         "Көтермелер, дүкен немесе көктем дүкен vpn. Nord жақсы",
         "['admiration']"
        ],
        [
         "28",
         "[NAME]-ға соншалықты қуана, соншалықты өкінішке қарай, ол यहाँ жоқ. Осы [NAME]-ты [NAME] емес, [NAME]-мен ішіп тұрған команданы төсөөлге. Өө.",
         "['disgust', 'joy', 'sadness']"
        ],
        [
         "29",
         "Бірақ [NAME] оны соншалық көңіл қалдырарлық деп айтып жатыр",
         "['neutral']"
        ],
        [
         "30",
         "Көп нәрсе Көп нәрсе, көмекші кеңістік",
         "['neutral']"
        ],
        [
         "31",
         "Тұмыр, қызығы, бірақ шын мәнінде жақсы емес. Ол сайып келгенде, оныңмен ұйықталуға құлықсыз қалған өлтірген қыздарды әлі күнге дейін кінәлі деп айта қойған жоқ.",
         "['disappointment', 'disgust']"
        ],
        [
         "32",
         "Мен, бәлкім, екі жүздеген мильді space saver торға салап тастадым. Ол әлі де сонда тұр.",
         "['neutral']"
        ],
        [
         "33",
         "Мен оның жағдайы жақсы екеніне сенемін, бірақ мен одан да жақсымын, себебі ол тауға ескелесіп, парашютпен айдайтын ер адамның пікірі емес.",
         "['gratitude']"
        ],
        [
         "34",
         "Жақсы! Би мұны ішіп аламын",
         "['admiration']"
        ],
        [
         "35",
         "Әсіресе оның «өз бетini кекітемін» деген видеосы салдарынан.",
         "['disapproval']"
        ],
        [
         "36",
         "Жақында үйіmə келсем, бұл лайна-лайна ұмтылы ма? Mən маған ұмтылымын.",
         "['love']"
        ],
        [
         "37",
         "Керісінше, тролльға барар. Бұл әйелге құлшыныс беру керек, ауыздықсыз сұрақ қоймау керек.",
         "['annoyance']"
        ],
        [
         "38",
         "Әсіресе онлайнда, бұлай болмауы ықтимал",
         "['annoyance']"
        ],
        [
         "39",
         "Және. Намаймның постын өзгертуге тырысып жатырм.",
         "['remorse']"
        ],
        [
         "40",
         "Оның үстіне, контентті әзірлеушілері төленетіні жоқ, сондықтан жарнамаға құлақ асқарған секундтар – тым қымбат!",
         "['confusion', 'curiosity']"
        ],
        [
         "41",
         "Өкінішке қарай, мен онда лайықты үдэшлэг өткіземін, бірақ мұрында ешқашан кеш болмағанмын.",
         "['remorse']"
        ],
        [
         "42",
         "Бұл салада бұрын-соңды болмаған ең ыңғайлы нәрсе",
         "['joy']"
        ],
        [
         "43",
         "[NAME] - күдікті болғаны туралы қандай дәлелдеме бар?",
         "['neutral']"
        ],
        [
         "44",
         "cure-all емес. Бізде олай жоқ болғандықтан, бұл келесі ең жақсы шешім емес пе?",
         "['confusion']"
        ],
        [
         "45",
         "Егер онда бір шеңбер бар болса, онда да.",
         "['approval']"
        ],
        [
         "46",
         "Егер [NAME] жылдың соңында ұқсас рөл ойнайтын болса, онда менің ойымша бұл рөлді ол жағына беру емес...әсіресе Sony",
         "['neutral']"
        ],
        [
         "47",
         "Өө, қате, бастапқы сөзі қате түсіндім",
         "['confusion', 'realization']"
        ],
        [
         "48",
         "Қайырымдылық пен күштілік таныту",
         "['joy', 'optimism']"
        ],
        [
         "49",
         "Ол ештеңемен қуыршақтай қуыршақ сияқты.",
         "['admiration']"
        ]
       ],
       "shape": {
        "columns": 2,
        "rows": 64097
       }
      },
      "text/html": [
       "<div>\n",
       "<style scoped>\n",
       "    .dataframe tbody tr th:only-of-type {\n",
       "        vertical-align: middle;\n",
       "    }\n",
       "\n",
       "    .dataframe tbody tr th {\n",
       "        vertical-align: top;\n",
       "    }\n",
       "\n",
       "    .dataframe thead th {\n",
       "        text-align: right;\n",
       "    }\n",
       "</style>\n",
       "<table border=\"1\" class=\"dataframe\">\n",
       "  <thead>\n",
       "    <tr style=\"text-align: right;\">\n",
       "      <th></th>\n",
       "      <th>text</th>\n",
       "      <th>emotion</th>\n",
       "    </tr>\n",
       "  </thead>\n",
       "  <tbody>\n",
       "    <tr>\n",
       "      <th>0</th>\n",
       "      <td>Бұл ойын ұятты.</td>\n",
       "      <td>[sadness]</td>\n",
       "    </tr>\n",
       "    <tr>\n",
       "      <th>1</th>\n",
       "      <td>Егер ештеңе ештеңе болмаса, әйтеуір оларды құлай!</td>\n",
       "      <td>[neutral]</td>\n",
       "    </tr>\n",
       "    <tr>\n",
       "      <th>2</th>\n",
       "      <td>Мен reddit-ді жақсы білемін.</td>\n",
       "      <td>[love]</td>\n",
       "    </tr>\n",
       "    <tr>\n",
       "      <th>3</th>\n",
       "      <td>[NAME] олардың жақында тұрған жоқ, ол соқырқын...</td>\n",
       "      <td>[neutral]</td>\n",
       "    </tr>\n",
       "    <tr>\n",
       "      <th>4</th>\n",
       "      <td>Бұл – өте маңызды құжат, сондықтан мұны әрі қа...</td>\n",
       "      <td>[gratitude]</td>\n",
       "    </tr>\n",
       "    <tr>\n",
       "      <th>...</th>\n",
       "      <td>...</td>\n",
       "      <td>...</td>\n",
       "    </tr>\n",
       "    <tr>\n",
       "      <th>64092</th>\n",
       "      <td>\"Сен онымен на хабаре болсаң, менің өтінішімді...</td>\n",
       "      <td>[desire, nervousness, caring]</td>\n",
       "    </tr>\n",
       "    <tr>\n",
       "      <th>64093</th>\n",
       "      <td>\"Оның \"танкасы бар\" болса да, заң алдында бәрі...</td>\n",
       "      <td>[approval, determination, anger]</td>\n",
       "    </tr>\n",
       "    <tr>\n",
       "      <th>64094</th>\n",
       "      <td>\"Ол шындықты айтып тұр ма, или өтірік пе, түсі...</td>\n",
       "      <td>[confusion, nervousness, curiosity]</td>\n",
       "    </tr>\n",
       "    <tr>\n",
       "      <th>64095</th>\n",
       "      <td>Университетте оқып жүргенде, біз общягада тұрд...</td>\n",
       "      <td>[joy, nostalgia, caring]</td>\n",
       "    </tr>\n",
       "    <tr>\n",
       "      <th>64096</th>\n",
       "      <td>\"Қораға кіргеніңді түсінген кезде кеш болады, ...</td>\n",
       "      <td>[realization, caring, disapproval]</td>\n",
       "    </tr>\n",
       "  </tbody>\n",
       "</table>\n",
       "<p>64097 rows × 2 columns</p>\n",
       "</div>"
      ],
      "text/plain": [
       "                                                    text  \\\n",
       "0                                        Бұл ойын ұятты.   \n",
       "1      Егер ештеңе ештеңе болмаса, әйтеуір оларды құлай!   \n",
       "2                           Мен reddit-ді жақсы білемін.   \n",
       "3      [NAME] олардың жақында тұрған жоқ, ол соқырқын...   \n",
       "4      Бұл – өте маңызды құжат, сондықтан мұны әрі қа...   \n",
       "...                                                  ...   \n",
       "64092  \"Сен онымен на хабаре болсаң, менің өтінішімді...   \n",
       "64093  \"Оның \"танкасы бар\" болса да, заң алдында бәрі...   \n",
       "64094  \"Ол шындықты айтып тұр ма, или өтірік пе, түсі...   \n",
       "64095  Университетте оқып жүргенде, біз общягада тұрд...   \n",
       "64096  \"Қораға кіргеніңді түсінген кезде кеш болады, ...   \n",
       "\n",
       "                                   emotion  \n",
       "0                                [sadness]  \n",
       "1                                [neutral]  \n",
       "2                                   [love]  \n",
       "3                                [neutral]  \n",
       "4                              [gratitude]  \n",
       "...                                    ...  \n",
       "64092        [desire, nervousness, caring]  \n",
       "64093     [approval, determination, anger]  \n",
       "64094  [confusion, nervousness, curiosity]  \n",
       "64095             [joy, nostalgia, caring]  \n",
       "64096   [realization, caring, disapproval]  \n",
       "\n",
       "[64097 rows x 2 columns]"
      ]
     },
     "execution_count": 20,
     "metadata": {},
     "output_type": "execute_result"
    }
   ],
   "source": [
    "data = pd.concat([ax, slang], ignore_index=True)\n",
    "data"
   ]
  },
  {
   "cell_type": "code",
   "execution_count": 18,
   "id": "932c082b",
   "metadata": {},
   "outputs": [],
   "source": [
    "def clean_emotions(emotion_list):\n",
    "    return list(set([re.sub(r\"\\s*\\(.*?\\)\", \"\", e).strip() for e in emotion_list]))\n",
    "\n",
    "data['emotion'] = data['emotion'].apply(clean_emotions)\n"
   ]
  },
  {
   "cell_type": "code",
   "execution_count": 19,
   "id": "d1e1116c",
   "metadata": {},
   "outputs": [],
   "source": [
    "data.to_csv('datasets/kzdata.csv', index=False)"
   ]
  },
  {
   "cell_type": "code",
   "execution_count": null,
   "id": "d3aac3e6",
   "metadata": {},
   "outputs": [],
   "source": []
  }
 ],
 "metadata": {
  "kernelspec": {
   "display_name": "venv",
   "language": "python",
   "name": "python3"
  },
  "language_info": {
   "codemirror_mode": {
    "name": "ipython",
    "version": 3
   },
   "file_extension": ".py",
   "mimetype": "text/x-python",
   "name": "python",
   "nbconvert_exporter": "python",
   "pygments_lexer": "ipython3",
   "version": "3.12.3"
  }
 },
 "nbformat": 4,
 "nbformat_minor": 5
}
